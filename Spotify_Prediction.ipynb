{
  "nbformat": 4,
  "nbformat_minor": 0,
  "metadata": {
    "colab": {
      "name": "Spotify Prediction",
      "provenance": [],
      "collapsed_sections": []
    },
    "kernelspec": {
      "display_name": "Python 3",
      "name": "python3"
    }
  },
  "cells": [
    {
      "cell_type": "code",
      "metadata": {
        "id": "3_hDgsZ8XVtJ"
      },
      "source": [
        "#Suhruta Malireddy (18BCD7003) and K L Prathyusha (18BCD7024)\n",
        "#Spotify Popularity Prediction Notebook\n",
        "import numpy as np \n",
        "import seaborn as sns\n",
        "import matplotlib.pyplot as plt\n",
        "import pandas as pd #importing needed libraries"
      ],
      "execution_count": null,
      "outputs": []
    },
    {
      "cell_type": "code",
      "metadata": {
        "colab": {
          "base_uri": "https://localhost:8080/",
          "height": 499
        },
        "id": "q1CHvpGbWESs",
        "outputId": "64519c26-eea9-4d0b-97e1-cb93b86e60c7"
      },
      "source": [
        "df=pd.read_csv(\"data.csv\") #reading the csv\n",
        "df.head()"
      ],
      "execution_count": null,
      "outputs": [
        {
          "output_type": "execute_result",
          "data": {
            "text/html": [
              "<div>\n",
              "<style scoped>\n",
              "    .dataframe tbody tr th:only-of-type {\n",
              "        vertical-align: middle;\n",
              "    }\n",
              "\n",
              "    .dataframe tbody tr th {\n",
              "        vertical-align: top;\n",
              "    }\n",
              "\n",
              "    .dataframe thead th {\n",
              "        text-align: right;\n",
              "    }\n",
              "</style>\n",
              "<table border=\"1\" class=\"dataframe\">\n",
              "  <thead>\n",
              "    <tr style=\"text-align: right;\">\n",
              "      <th></th>\n",
              "      <th>valence</th>\n",
              "      <th>year</th>\n",
              "      <th>acousticness</th>\n",
              "      <th>artists</th>\n",
              "      <th>danceability</th>\n",
              "      <th>duration_ms</th>\n",
              "      <th>energy</th>\n",
              "      <th>explicit</th>\n",
              "      <th>id</th>\n",
              "      <th>instrumentalness</th>\n",
              "      <th>key</th>\n",
              "      <th>liveness</th>\n",
              "      <th>loudness</th>\n",
              "      <th>mode</th>\n",
              "      <th>name</th>\n",
              "      <th>popularity</th>\n",
              "      <th>release_date</th>\n",
              "      <th>speechiness</th>\n",
              "      <th>tempo</th>\n",
              "    </tr>\n",
              "  </thead>\n",
              "  <tbody>\n",
              "    <tr>\n",
              "      <th>0</th>\n",
              "      <td>0.0594</td>\n",
              "      <td>1921</td>\n",
              "      <td>0.982</td>\n",
              "      <td>['Sergei Rachmaninoff', 'James Levine', 'Berli...</td>\n",
              "      <td>0.279</td>\n",
              "      <td>831667</td>\n",
              "      <td>0.211</td>\n",
              "      <td>0</td>\n",
              "      <td>4BJqT0PrAfrxzMOxytFOIz</td>\n",
              "      <td>0.878000</td>\n",
              "      <td>10</td>\n",
              "      <td>0.665</td>\n",
              "      <td>-20.096</td>\n",
              "      <td>1</td>\n",
              "      <td>Piano Concerto No. 3 in D Minor, Op. 30: III. ...</td>\n",
              "      <td>4</td>\n",
              "      <td>1921</td>\n",
              "      <td>0.0366</td>\n",
              "      <td>80.954</td>\n",
              "    </tr>\n",
              "    <tr>\n",
              "      <th>1</th>\n",
              "      <td>0.9630</td>\n",
              "      <td>1921</td>\n",
              "      <td>0.732</td>\n",
              "      <td>['Dennis Day']</td>\n",
              "      <td>0.819</td>\n",
              "      <td>180533</td>\n",
              "      <td>0.341</td>\n",
              "      <td>0</td>\n",
              "      <td>7xPhfUan2yNtyFG0cUWkt8</td>\n",
              "      <td>0.000000</td>\n",
              "      <td>7</td>\n",
              "      <td>0.160</td>\n",
              "      <td>-12.441</td>\n",
              "      <td>1</td>\n",
              "      <td>Clancy Lowered the Boom</td>\n",
              "      <td>5</td>\n",
              "      <td>1921</td>\n",
              "      <td>0.4150</td>\n",
              "      <td>60.936</td>\n",
              "    </tr>\n",
              "    <tr>\n",
              "      <th>2</th>\n",
              "      <td>0.0394</td>\n",
              "      <td>1921</td>\n",
              "      <td>0.961</td>\n",
              "      <td>['KHP Kridhamardawa Karaton Ngayogyakarta Hadi...</td>\n",
              "      <td>0.328</td>\n",
              "      <td>500062</td>\n",
              "      <td>0.166</td>\n",
              "      <td>0</td>\n",
              "      <td>1o6I8BglA6ylDMrIELygv1</td>\n",
              "      <td>0.913000</td>\n",
              "      <td>3</td>\n",
              "      <td>0.101</td>\n",
              "      <td>-14.850</td>\n",
              "      <td>1</td>\n",
              "      <td>Gati Bali</td>\n",
              "      <td>5</td>\n",
              "      <td>1921</td>\n",
              "      <td>0.0339</td>\n",
              "      <td>110.339</td>\n",
              "    </tr>\n",
              "    <tr>\n",
              "      <th>3</th>\n",
              "      <td>0.1650</td>\n",
              "      <td>1921</td>\n",
              "      <td>0.967</td>\n",
              "      <td>['Frank Parker']</td>\n",
              "      <td>0.275</td>\n",
              "      <td>210000</td>\n",
              "      <td>0.309</td>\n",
              "      <td>0</td>\n",
              "      <td>3ftBPsC5vPBKxYSee08FDH</td>\n",
              "      <td>0.000028</td>\n",
              "      <td>5</td>\n",
              "      <td>0.381</td>\n",
              "      <td>-9.316</td>\n",
              "      <td>1</td>\n",
              "      <td>Danny Boy</td>\n",
              "      <td>3</td>\n",
              "      <td>1921</td>\n",
              "      <td>0.0354</td>\n",
              "      <td>100.109</td>\n",
              "    </tr>\n",
              "    <tr>\n",
              "      <th>4</th>\n",
              "      <td>0.2530</td>\n",
              "      <td>1921</td>\n",
              "      <td>0.957</td>\n",
              "      <td>['Phil Regan']</td>\n",
              "      <td>0.418</td>\n",
              "      <td>166693</td>\n",
              "      <td>0.193</td>\n",
              "      <td>0</td>\n",
              "      <td>4d6HGyGT8e121BsdKmw9v6</td>\n",
              "      <td>0.000002</td>\n",
              "      <td>3</td>\n",
              "      <td>0.229</td>\n",
              "      <td>-10.096</td>\n",
              "      <td>1</td>\n",
              "      <td>When Irish Eyes Are Smiling</td>\n",
              "      <td>2</td>\n",
              "      <td>1921</td>\n",
              "      <td>0.0380</td>\n",
              "      <td>101.665</td>\n",
              "    </tr>\n",
              "  </tbody>\n",
              "</table>\n",
              "</div>"
            ],
            "text/plain": [
              "   valence  year  acousticness  ... release_date  speechiness    tempo\n",
              "0   0.0594  1921         0.982  ...         1921       0.0366   80.954\n",
              "1   0.9630  1921         0.732  ...         1921       0.4150   60.936\n",
              "2   0.0394  1921         0.961  ...         1921       0.0339  110.339\n",
              "3   0.1650  1921         0.967  ...         1921       0.0354  100.109\n",
              "4   0.2530  1921         0.957  ...         1921       0.0380  101.665\n",
              "\n",
              "[5 rows x 19 columns]"
            ]
          },
          "metadata": {
            "tags": []
          },
          "execution_count": 17
        }
      ]
    },
    {
      "cell_type": "code",
      "metadata": {
        "colab": {
          "base_uri": "https://localhost:8080/"
        },
        "id": "25ut4YAVYJR0",
        "outputId": "21532602-56cc-4293-cb8b-504a8bfd015e"
      },
      "source": [
        "#Section 1:\n",
        "df.dtypes #we have float, int and object (string) types"
      ],
      "execution_count": null,
      "outputs": [
        {
          "output_type": "execute_result",
          "data": {
            "text/plain": [
              "valence             float64\n",
              "year                  int64\n",
              "acousticness        float64\n",
              "artists              object\n",
              "danceability        float64\n",
              "duration_ms           int64\n",
              "energy              float64\n",
              "explicit              int64\n",
              "id                   object\n",
              "instrumentalness    float64\n",
              "key                   int64\n",
              "liveness            float64\n",
              "loudness            float64\n",
              "mode                  int64\n",
              "name                 object\n",
              "popularity            int64\n",
              "release_date         object\n",
              "speechiness         float64\n",
              "tempo               float64\n",
              "dtype: object"
            ]
          },
          "metadata": {
            "tags": []
          },
          "execution_count": 14
        }
      ]
    },
    {
      "cell_type": "code",
      "metadata": {
        "colab": {
          "base_uri": "https://localhost:8080/"
        },
        "id": "VKXm_UVGvjTX",
        "outputId": "cd6ce8ea-7ef1-4370-84c4-bbfca1c78337"
      },
      "source": [
        "df = df.drop(labels=['id', 'name', 'release_date'], axis=1)\n",
        "#id and name too unique and not useful for identification. Release date and year are dependent, so we remove one.\n",
        "df.shape"
      ],
      "execution_count": null,
      "outputs": [
        {
          "output_type": "execute_result",
          "data": {
            "text/plain": [
              "(170653, 16)"
            ]
          },
          "metadata": {
            "tags": []
          },
          "execution_count": 18
        }
      ]
    },
    {
      "cell_type": "code",
      "metadata": {
        "colab": {
          "base_uri": "https://localhost:8080/",
          "height": 643
        },
        "id": "RAgLjee99blS",
        "outputId": "edfe3f4b-6d06-4da5-a2e0-e5d78621b1c2"
      },
      "source": [
        "df['popornot'] = np.where(df.popularity > 50, 0, 1) #making it two classes, popular/not\r\n",
        "df"
      ],
      "execution_count": null,
      "outputs": [
        {
          "output_type": "execute_result",
          "data": {
            "text/html": [
              "<div>\n",
              "<style scoped>\n",
              "    .dataframe tbody tr th:only-of-type {\n",
              "        vertical-align: middle;\n",
              "    }\n",
              "\n",
              "    .dataframe tbody tr th {\n",
              "        vertical-align: top;\n",
              "    }\n",
              "\n",
              "    .dataframe thead th {\n",
              "        text-align: right;\n",
              "    }\n",
              "</style>\n",
              "<table border=\"1\" class=\"dataframe\">\n",
              "  <thead>\n",
              "    <tr style=\"text-align: right;\">\n",
              "      <th></th>\n",
              "      <th>valence</th>\n",
              "      <th>year</th>\n",
              "      <th>acousticness</th>\n",
              "      <th>artists</th>\n",
              "      <th>danceability</th>\n",
              "      <th>duration_ms</th>\n",
              "      <th>energy</th>\n",
              "      <th>explicit</th>\n",
              "      <th>instrumentalness</th>\n",
              "      <th>key</th>\n",
              "      <th>liveness</th>\n",
              "      <th>loudness</th>\n",
              "      <th>mode</th>\n",
              "      <th>popularity</th>\n",
              "      <th>speechiness</th>\n",
              "      <th>tempo</th>\n",
              "      <th>popornot</th>\n",
              "    </tr>\n",
              "  </thead>\n",
              "  <tbody>\n",
              "    <tr>\n",
              "      <th>0</th>\n",
              "      <td>0.0594</td>\n",
              "      <td>1921</td>\n",
              "      <td>0.98200</td>\n",
              "      <td>['Sergei Rachmaninoff', 'James Levine', 'Berli...</td>\n",
              "      <td>0.279</td>\n",
              "      <td>831667</td>\n",
              "      <td>0.211</td>\n",
              "      <td>0</td>\n",
              "      <td>0.878000</td>\n",
              "      <td>10</td>\n",
              "      <td>0.6650</td>\n",
              "      <td>-20.096</td>\n",
              "      <td>1</td>\n",
              "      <td>4</td>\n",
              "      <td>0.0366</td>\n",
              "      <td>80.954</td>\n",
              "      <td>1</td>\n",
              "    </tr>\n",
              "    <tr>\n",
              "      <th>1</th>\n",
              "      <td>0.9630</td>\n",
              "      <td>1921</td>\n",
              "      <td>0.73200</td>\n",
              "      <td>['Dennis Day']</td>\n",
              "      <td>0.819</td>\n",
              "      <td>180533</td>\n",
              "      <td>0.341</td>\n",
              "      <td>0</td>\n",
              "      <td>0.000000</td>\n",
              "      <td>7</td>\n",
              "      <td>0.1600</td>\n",
              "      <td>-12.441</td>\n",
              "      <td>1</td>\n",
              "      <td>5</td>\n",
              "      <td>0.4150</td>\n",
              "      <td>60.936</td>\n",
              "      <td>1</td>\n",
              "    </tr>\n",
              "    <tr>\n",
              "      <th>2</th>\n",
              "      <td>0.0394</td>\n",
              "      <td>1921</td>\n",
              "      <td>0.96100</td>\n",
              "      <td>['KHP Kridhamardawa Karaton Ngayogyakarta Hadi...</td>\n",
              "      <td>0.328</td>\n",
              "      <td>500062</td>\n",
              "      <td>0.166</td>\n",
              "      <td>0</td>\n",
              "      <td>0.913000</td>\n",
              "      <td>3</td>\n",
              "      <td>0.1010</td>\n",
              "      <td>-14.850</td>\n",
              "      <td>1</td>\n",
              "      <td>5</td>\n",
              "      <td>0.0339</td>\n",
              "      <td>110.339</td>\n",
              "      <td>1</td>\n",
              "    </tr>\n",
              "    <tr>\n",
              "      <th>3</th>\n",
              "      <td>0.1650</td>\n",
              "      <td>1921</td>\n",
              "      <td>0.96700</td>\n",
              "      <td>['Frank Parker']</td>\n",
              "      <td>0.275</td>\n",
              "      <td>210000</td>\n",
              "      <td>0.309</td>\n",
              "      <td>0</td>\n",
              "      <td>0.000028</td>\n",
              "      <td>5</td>\n",
              "      <td>0.3810</td>\n",
              "      <td>-9.316</td>\n",
              "      <td>1</td>\n",
              "      <td>3</td>\n",
              "      <td>0.0354</td>\n",
              "      <td>100.109</td>\n",
              "      <td>1</td>\n",
              "    </tr>\n",
              "    <tr>\n",
              "      <th>4</th>\n",
              "      <td>0.2530</td>\n",
              "      <td>1921</td>\n",
              "      <td>0.95700</td>\n",
              "      <td>['Phil Regan']</td>\n",
              "      <td>0.418</td>\n",
              "      <td>166693</td>\n",
              "      <td>0.193</td>\n",
              "      <td>0</td>\n",
              "      <td>0.000002</td>\n",
              "      <td>3</td>\n",
              "      <td>0.2290</td>\n",
              "      <td>-10.096</td>\n",
              "      <td>1</td>\n",
              "      <td>2</td>\n",
              "      <td>0.0380</td>\n",
              "      <td>101.665</td>\n",
              "      <td>1</td>\n",
              "    </tr>\n",
              "    <tr>\n",
              "      <th>...</th>\n",
              "      <td>...</td>\n",
              "      <td>...</td>\n",
              "      <td>...</td>\n",
              "      <td>...</td>\n",
              "      <td>...</td>\n",
              "      <td>...</td>\n",
              "      <td>...</td>\n",
              "      <td>...</td>\n",
              "      <td>...</td>\n",
              "      <td>...</td>\n",
              "      <td>...</td>\n",
              "      <td>...</td>\n",
              "      <td>...</td>\n",
              "      <td>...</td>\n",
              "      <td>...</td>\n",
              "      <td>...</td>\n",
              "      <td>...</td>\n",
              "    </tr>\n",
              "    <tr>\n",
              "      <th>170648</th>\n",
              "      <td>0.6080</td>\n",
              "      <td>2020</td>\n",
              "      <td>0.08460</td>\n",
              "      <td>['Anuel AA', 'Daddy Yankee', 'KAROL G', 'Ozuna...</td>\n",
              "      <td>0.786</td>\n",
              "      <td>301714</td>\n",
              "      <td>0.808</td>\n",
              "      <td>0</td>\n",
              "      <td>0.000289</td>\n",
              "      <td>7</td>\n",
              "      <td>0.0822</td>\n",
              "      <td>-3.702</td>\n",
              "      <td>1</td>\n",
              "      <td>72</td>\n",
              "      <td>0.0881</td>\n",
              "      <td>105.029</td>\n",
              "      <td>0</td>\n",
              "    </tr>\n",
              "    <tr>\n",
              "      <th>170649</th>\n",
              "      <td>0.7340</td>\n",
              "      <td>2020</td>\n",
              "      <td>0.20600</td>\n",
              "      <td>['Ashnikko']</td>\n",
              "      <td>0.717</td>\n",
              "      <td>150654</td>\n",
              "      <td>0.753</td>\n",
              "      <td>0</td>\n",
              "      <td>0.000000</td>\n",
              "      <td>7</td>\n",
              "      <td>0.1010</td>\n",
              "      <td>-6.020</td>\n",
              "      <td>1</td>\n",
              "      <td>68</td>\n",
              "      <td>0.0605</td>\n",
              "      <td>137.936</td>\n",
              "      <td>0</td>\n",
              "    </tr>\n",
              "    <tr>\n",
              "      <th>170650</th>\n",
              "      <td>0.6370</td>\n",
              "      <td>2020</td>\n",
              "      <td>0.10100</td>\n",
              "      <td>['MAMAMOO']</td>\n",
              "      <td>0.634</td>\n",
              "      <td>211280</td>\n",
              "      <td>0.858</td>\n",
              "      <td>0</td>\n",
              "      <td>0.000009</td>\n",
              "      <td>4</td>\n",
              "      <td>0.2580</td>\n",
              "      <td>-2.226</td>\n",
              "      <td>0</td>\n",
              "      <td>76</td>\n",
              "      <td>0.0809</td>\n",
              "      <td>91.688</td>\n",
              "      <td>0</td>\n",
              "    </tr>\n",
              "    <tr>\n",
              "      <th>170651</th>\n",
              "      <td>0.1950</td>\n",
              "      <td>2020</td>\n",
              "      <td>0.00998</td>\n",
              "      <td>['Eminem']</td>\n",
              "      <td>0.671</td>\n",
              "      <td>337147</td>\n",
              "      <td>0.623</td>\n",
              "      <td>1</td>\n",
              "      <td>0.000008</td>\n",
              "      <td>2</td>\n",
              "      <td>0.6430</td>\n",
              "      <td>-7.161</td>\n",
              "      <td>1</td>\n",
              "      <td>70</td>\n",
              "      <td>0.3080</td>\n",
              "      <td>75.055</td>\n",
              "      <td>0</td>\n",
              "    </tr>\n",
              "    <tr>\n",
              "      <th>170652</th>\n",
              "      <td>0.6420</td>\n",
              "      <td>2020</td>\n",
              "      <td>0.13200</td>\n",
              "      <td>['KEVVO', 'J Balvin']</td>\n",
              "      <td>0.856</td>\n",
              "      <td>189507</td>\n",
              "      <td>0.721</td>\n",
              "      <td>1</td>\n",
              "      <td>0.004710</td>\n",
              "      <td>7</td>\n",
              "      <td>0.1820</td>\n",
              "      <td>-4.928</td>\n",
              "      <td>1</td>\n",
              "      <td>74</td>\n",
              "      <td>0.1080</td>\n",
              "      <td>94.991</td>\n",
              "      <td>0</td>\n",
              "    </tr>\n",
              "  </tbody>\n",
              "</table>\n",
              "<p>170653 rows × 17 columns</p>\n",
              "</div>"
            ],
            "text/plain": [
              "        valence  year  acousticness  ... speechiness    tempo  popornot\n",
              "0        0.0594  1921       0.98200  ...      0.0366   80.954         1\n",
              "1        0.9630  1921       0.73200  ...      0.4150   60.936         1\n",
              "2        0.0394  1921       0.96100  ...      0.0339  110.339         1\n",
              "3        0.1650  1921       0.96700  ...      0.0354  100.109         1\n",
              "4        0.2530  1921       0.95700  ...      0.0380  101.665         1\n",
              "...         ...   ...           ...  ...         ...      ...       ...\n",
              "170648   0.6080  2020       0.08460  ...      0.0881  105.029         0\n",
              "170649   0.7340  2020       0.20600  ...      0.0605  137.936         0\n",
              "170650   0.6370  2020       0.10100  ...      0.0809   91.688         0\n",
              "170651   0.1950  2020       0.00998  ...      0.3080   75.055         0\n",
              "170652   0.6420  2020       0.13200  ...      0.1080   94.991         0\n",
              "\n",
              "[170653 rows x 17 columns]"
            ]
          },
          "metadata": {
            "tags": []
          },
          "execution_count": 19
        }
      ]
    },
    {
      "cell_type": "code",
      "metadata": {
        "colab": {
          "base_uri": "https://localhost:8080/",
          "height": 701
        },
        "id": "QEEDXeTky0HE",
        "outputId": "6a5b4692-356f-415e-9466-6813dc3a0625"
      },
      "source": [
        "#Section 2: Data Visualisation\n",
        "fig, ax = plt.subplots(figsize=(10,10)) #plotting correlations via a heatmap\n",
        "plt.title('Heatmap showing the correlation of the numerical columns')\n",
        "sns.heatmap(df.corr(),annot=True)"
      ],
      "execution_count": null,
      "outputs": [
        {
          "output_type": "execute_result",
          "data": {
            "text/plain": [
              "<matplotlib.axes._subplots.AxesSubplot at 0x7fedd190f048>"
            ]
          },
          "metadata": {
            "tags": []
          },
          "execution_count": 22
        },
        {
          "output_type": "display_data",
          "data": {
            "image/png": "[encoded data removed]",
            "text/plain": [
              "<Figure size 720x720 with 2 Axes>"
            ]
          },
          "metadata": {
            "tags": [],
            "needs_background": "light"
          }
        }
      ]
    },
    {
      "cell_type": "code",
      "metadata": {
        "colab": {
          "base_uri": "https://localhost:8080/",
          "height": 499
        },
        "id": "H5oDElXr1g8_",
        "outputId": "db9419e1-8467-46f9-c840-ee5e9a0542e7"
      },
      "source": [
        "fig, ax = plt.subplots(figsize = (10, 8))\n",
        "lead_artists = df.groupby('artists')['popularity'].sum().sort_values(ascending=False).head(30)\n",
        "#plotting the top 20 artists via a barplot\n",
        "ax = sns.barplot(x=lead_artists.values, y=lead_artists.index, edgecolor='black')\n",
        "ax.set_title('30 Most Popular Artists of All Time',  weight = 'bold')\n",
        "plt.show()\n",
        "#please see screenshot of our timeseries in the word doc. It was throwing errors on colab, so we had to use a kaggle notebook."
      ],
      "execution_count": null,
      "outputs": [
        {
          "output_type": "display_data",
          "data": {
            "image/png": "[encoded data removed]",
            "text/plain": [
              "<Figure size 720x576 with 1 Axes>"
            ]
          },
          "metadata": {
            "tags": []
          }
        }
      ]
    },
    {
      "cell_type": "code",
      "metadata": {
        "colab": {
          "base_uri": "https://localhost:8080/",
          "height": 313
        },
        "id": "udez4GGC_mkm",
        "outputId": "005c1040-1236-4ce3-f86e-56fd29912381"
      },
      "source": [
        "sns.countplot(data=df, x = 'explicit').set(title= 'Comparing number of tracks that are explicit/not')#1=yes,0=no. \n",
        "#Could be an important factor leading to popularity."
      ],
      "execution_count": null,
      "outputs": [
        {
          "output_type": "execute_result",
          "data": {
            "text/plain": [
              "[Text(0.5, 1.0, 'Comparing number of tracks that are explicit/not')]"
            ]
          },
          "metadata": {
            "tags": []
          },
          "execution_count": 68
        },
        {
          "output_type": "display_data",
          "data": {
            "image/png": "[encoded data removed]",
            "text/plain": [
              "<Figure size 432x288 with 1 Axes>"
            ]
          },
          "metadata": {
            "tags": [],
            "needs_background": "light"
          }
        }
      ]
    },
    {
      "cell_type": "code",
      "metadata": {
        "colab": {
          "base_uri": "https://localhost:8080/",
          "height": 313
        },
        "id": "MprnTWE61TTj",
        "outputId": "f93a801b-7e62-4467-ad34-4b5f98b5efdc"
      },
      "source": [
        "sns.barplot(x = 'key', y = 'popularity', data = df)\r\n",
        "plt.title('Popularity Based on Key')\r\n"
      ],
      "execution_count": null,
      "outputs": [
        {
          "output_type": "execute_result",
          "data": {
            "text/plain": [
              "Text(0.5, 1.0, 'Popularity Based on Key')"
            ]
          },
          "metadata": {
            "tags": []
          },
          "execution_count": 10
        },
        {
          "output_type": "display_data",
          "data": {
            "image/png": "[encoded data removed]",
            "text/plain": [
              "<Figure size 432x288 with 1 Axes>"
            ]
          },
          "metadata": {
            "tags": []
          }
        }
      ]
    },
    {
      "cell_type": "code",
      "metadata": {
        "colab": {
          "base_uri": "https://localhost:8080/",
          "height": 313
        },
        "id": "vSX3pxyb1VuJ",
        "outputId": "86069a90-ffb9-4647-bf2d-9cc1bf280c00"
      },
      "source": [
        "sns.barplot(x = 'explicit', y = 'popularity', data = df)\r\n",
        "plt.title('Popularity Based on Key') \r\n"
      ],
      "execution_count": null,
      "outputs": [
        {
          "output_type": "execute_result",
          "data": {
            "text/plain": [
              "Text(0.5, 1.0, 'Popularity Based on Key')"
            ]
          },
          "metadata": {
            "tags": []
          },
          "execution_count": 11
        },
        {
          "output_type": "display_data",
          "data": {
            "image/png": "[encoded data removed]",
            "text/plain": [
              "<Figure size 432x288 with 1 Axes>"
            ]
          },
          "metadata": {
            "tags": []
          }
        }
      ]
    },
    {
      "cell_type": "code",
      "metadata": {
        "colab": {
          "base_uri": "https://localhost:8080/"
        },
        "id": "i5qAAw5iwpqe",
        "outputId": "f48de0ea-e42c-4a1a-a52c-ce363a0db011"
      },
      "source": [
        "#section 3: non mandatory preprocessing\r\n",
        "df.isnull().sum() #no nulls exist"
      ],
      "execution_count": null,
      "outputs": [
        {
          "output_type": "execute_result",
          "data": {
            "text/plain": [
              "valence             0\n",
              "year                0\n",
              "acousticness        0\n",
              "artists             0\n",
              "danceability        0\n",
              "duration_ms         0\n",
              "energy              0\n",
              "explicit            0\n",
              "id                  0\n",
              "instrumentalness    0\n",
              "key                 0\n",
              "liveness            0\n",
              "loudness            0\n",
              "mode                0\n",
              "name                0\n",
              "popularity          0\n",
              "release_date        0\n",
              "speechiness         0\n",
              "tempo               0\n",
              "dtype: int64"
            ]
          },
          "metadata": {
            "tags": []
          },
          "execution_count": 31
        }
      ]
    },
    {
      "cell_type": "code",
      "metadata": {
        "colab": {
          "base_uri": "https://localhost:8080/"
        },
        "id": "MxKGLl-2xl1e",
        "outputId": "bd434a83-080b-46ef-8b25-a221b0bf1756"
      },
      "source": [
        "df.duplicated().sum() #seeing if any duplicates"
      ],
      "execution_count": null,
      "outputs": [
        {
          "output_type": "execute_result",
          "data": {
            "text/plain": [
              "628"
            ]
          },
          "metadata": {
            "tags": []
          },
          "execution_count": 12
        }
      ]
    },
    {
      "cell_type": "code",
      "metadata": {
        "colab": {
          "base_uri": "https://localhost:8080/"
        },
        "id": "ckD-_A5k-bE3",
        "outputId": "ebaac681-cc42-42b2-caa7-8151128c10ae"
      },
      "source": [
        "df = df[~df.duplicated()==1]\n",
        "df.duplicated().sum() #verifying no duplicates exist "
      ],
      "execution_count": null,
      "outputs": [
        {
          "output_type": "execute_result",
          "data": {
            "text/plain": [
              "0"
            ]
          },
          "metadata": {
            "tags": []
          },
          "execution_count": 13
        }
      ]
    },
    {
      "cell_type": "code",
      "metadata": {
        "colab": {
          "base_uri": "https://localhost:8080/"
        },
        "id": "shYDl6M8rwda",
        "outputId": "d8e9a30f-b2b5-4297-a6a5-6fd0b0370d12"
      },
      "source": [
        "df['popornot'].value_counts()"
      ],
      "execution_count": null,
      "outputs": [
        {
          "output_type": "execute_result",
          "data": {
            "text/plain": [
              "1    133757\n",
              "0     36268\n",
              "Name: popornot, dtype: int64"
            ]
          },
          "metadata": {
            "tags": []
          },
          "execution_count": 14
        }
      ]
    },
    {
      "cell_type": "code",
      "metadata": {
        "colab": {
          "base_uri": "https://localhost:8080/"
        },
        "id": "nsNUYbl_3EwB",
        "outputId": "4dc68cb9-d398-4587-f523-2e51dcfd3e46"
      },
      "source": [
        "\r\n",
        "from sklearn.utils import resample\r\n",
        "\r\n",
        "df_majority = df[df.popornot==1]\r\n",
        "df_minority = df[df.popornot==0]\r\n",
        " \r\n",
        "# Downsample majority class \r\n",
        "df_majority_downsampled = resample(df_majority, \r\n",
        "                                 replace=False,    # sample without replacement\r\n",
        "                                 n_samples=36268,     # to match minority class\r\n",
        "                                 random_state=42) # reproducible results\r\n",
        " \r\n",
        "# Combine minority class with downsampled majority class\r\n",
        "df_ds = pd.concat([df_majority_downsampled, df_minority])\r\n",
        " \r\n",
        "# Display new class counts\r\n",
        "df_ds.popornot.value_counts()"
      ],
      "execution_count": null,
      "outputs": [
        {
          "output_type": "execute_result",
          "data": {
            "text/plain": [
              "1    36268\n",
              "0    36268\n",
              "Name: popornot, dtype: int64"
            ]
          },
          "metadata": {
            "tags": []
          },
          "execution_count": 50
        }
      ]
    },
    {
      "cell_type": "code",
      "metadata": {
        "colab": {
          "base_uri": "https://localhost:8080/"
        },
        "id": "5TfJeagpewxb",
        "outputId": "b5488070-bb66-41ac-dae0-8d9e7bf4d3ea"
      },
      "source": [
        "from sklearn.utils import resample\r\n",
        "\r\n",
        "df_majority = df[df.popornot==1]\r\n",
        "df_minority = df[df.popornot==0]\r\n",
        " \r\n",
        "# Upsampled majority class \r\n",
        "df_minority_upsampled = resample(df_minority, \r\n",
        "                                 replace=True,    # sample with replacement\r\n",
        "                                 n_samples=133757,     # to match majority class\r\n",
        "                                 random_state=42) # reproducible results\r\n",
        " \r\n",
        "# Combine maj class with upsampled minority class\r\n",
        "df_us = pd.concat([df_majority, df_minority_upsampled])\r\n",
        " \r\n",
        "# Display new class counts\r\n",
        "df_us.popornot.value_counts()"
      ],
      "execution_count": null,
      "outputs": [
        {
          "output_type": "execute_result",
          "data": {
            "text/plain": [
              "1    133757\n",
              "0    133757\n",
              "Name: popornot, dtype: int64"
            ]
          },
          "metadata": {
            "tags": []
          },
          "execution_count": 15
        }
      ]
    },
    {
      "cell_type": "code",
      "metadata": {
        "colab": {
          "base_uri": "https://localhost:8080/",
          "height": 326
        },
        "id": "5Ss_uw5SEOpR",
        "outputId": "d1f23b7e-973a-4002-dba1-2ee773fab57e"
      },
      "source": [
        "\n",
        "dfohe=df_ds.copy()\n",
        "dfohe=pd.get_dummies(dfohe,columns=['explicit','mode','key'])\n",
        "dfohe.head()"
      ],
      "execution_count": null,
      "outputs": [
        {
          "output_type": "execute_result",
          "data": {
            "text/html": [
              "<div>\n",
              "<style scoped>\n",
              "    .dataframe tbody tr th:only-of-type {\n",
              "        vertical-align: middle;\n",
              "    }\n",
              "\n",
              "    .dataframe tbody tr th {\n",
              "        vertical-align: top;\n",
              "    }\n",
              "\n",
              "    .dataframe thead th {\n",
              "        text-align: right;\n",
              "    }\n",
              "</style>\n",
              "<table border=\"1\" class=\"dataframe\">\n",
              "  <thead>\n",
              "    <tr style=\"text-align: right;\">\n",
              "      <th></th>\n",
              "      <th>valence</th>\n",
              "      <th>year</th>\n",
              "      <th>acousticness</th>\n",
              "      <th>artists</th>\n",
              "      <th>danceability</th>\n",
              "      <th>duration_ms</th>\n",
              "      <th>energy</th>\n",
              "      <th>instrumentalness</th>\n",
              "      <th>liveness</th>\n",
              "      <th>loudness</th>\n",
              "      <th>popularity</th>\n",
              "      <th>speechiness</th>\n",
              "      <th>tempo</th>\n",
              "      <th>popornot</th>\n",
              "      <th>explicit_0</th>\n",
              "      <th>explicit_1</th>\n",
              "      <th>mode_0</th>\n",
              "      <th>mode_1</th>\n",
              "      <th>key_0</th>\n",
              "      <th>key_1</th>\n",
              "      <th>key_2</th>\n",
              "      <th>key_3</th>\n",
              "      <th>key_4</th>\n",
              "      <th>key_5</th>\n",
              "      <th>key_6</th>\n",
              "      <th>key_7</th>\n",
              "      <th>key_8</th>\n",
              "      <th>key_9</th>\n",
              "      <th>key_10</th>\n",
              "      <th>key_11</th>\n",
              "    </tr>\n",
              "  </thead>\n",
              "  <tbody>\n",
              "    <tr>\n",
              "      <th>168754</th>\n",
              "      <td>0.434</td>\n",
              "      <td>2011</td>\n",
              "      <td>0.8200</td>\n",
              "      <td>['Tony Bennett', 'John Mayer']</td>\n",
              "      <td>0.573</td>\n",
              "      <td>176013</td>\n",
              "      <td>0.324</td>\n",
              "      <td>0.000000</td>\n",
              "      <td>0.0618</td>\n",
              "      <td>-10.999</td>\n",
              "      <td>50</td>\n",
              "      <td>0.0390</td>\n",
              "      <td>100.416</td>\n",
              "      <td>1</td>\n",
              "      <td>1</td>\n",
              "      <td>0</td>\n",
              "      <td>1</td>\n",
              "      <td>0</td>\n",
              "      <td>0</td>\n",
              "      <td>0</td>\n",
              "      <td>0</td>\n",
              "      <td>0</td>\n",
              "      <td>0</td>\n",
              "      <td>0</td>\n",
              "      <td>0</td>\n",
              "      <td>0</td>\n",
              "      <td>0</td>\n",
              "      <td>1</td>\n",
              "      <td>0</td>\n",
              "      <td>0</td>\n",
              "    </tr>\n",
              "    <tr>\n",
              "      <th>10775</th>\n",
              "      <td>0.466</td>\n",
              "      <td>1975</td>\n",
              "      <td>0.0469</td>\n",
              "      <td>['Black Sabbath']</td>\n",
              "      <td>0.279</td>\n",
              "      <td>389095</td>\n",
              "      <td>0.638</td>\n",
              "      <td>0.057200</td>\n",
              "      <td>0.1410</td>\n",
              "      <td>-12.569</td>\n",
              "      <td>46</td>\n",
              "      <td>0.0449</td>\n",
              "      <td>178.273</td>\n",
              "      <td>1</td>\n",
              "      <td>1</td>\n",
              "      <td>0</td>\n",
              "      <td>1</td>\n",
              "      <td>0</td>\n",
              "      <td>0</td>\n",
              "      <td>0</td>\n",
              "      <td>0</td>\n",
              "      <td>0</td>\n",
              "      <td>0</td>\n",
              "      <td>0</td>\n",
              "      <td>1</td>\n",
              "      <td>0</td>\n",
              "      <td>0</td>\n",
              "      <td>0</td>\n",
              "      <td>0</td>\n",
              "      <td>0</td>\n",
              "    </tr>\n",
              "    <tr>\n",
              "      <th>48713</th>\n",
              "      <td>0.263</td>\n",
              "      <td>1977</td>\n",
              "      <td>0.2760</td>\n",
              "      <td>['Donna Summer']</td>\n",
              "      <td>0.545</td>\n",
              "      <td>265733</td>\n",
              "      <td>0.229</td>\n",
              "      <td>0.000003</td>\n",
              "      <td>0.1320</td>\n",
              "      <td>-16.205</td>\n",
              "      <td>42</td>\n",
              "      <td>0.0298</td>\n",
              "      <td>121.716</td>\n",
              "      <td>1</td>\n",
              "      <td>1</td>\n",
              "      <td>0</td>\n",
              "      <td>0</td>\n",
              "      <td>1</td>\n",
              "      <td>0</td>\n",
              "      <td>0</td>\n",
              "      <td>0</td>\n",
              "      <td>0</td>\n",
              "      <td>0</td>\n",
              "      <td>0</td>\n",
              "      <td>0</td>\n",
              "      <td>0</td>\n",
              "      <td>0</td>\n",
              "      <td>1</td>\n",
              "      <td>0</td>\n",
              "      <td>0</td>\n",
              "    </tr>\n",
              "    <tr>\n",
              "      <th>156719</th>\n",
              "      <td>0.943</td>\n",
              "      <td>1950</td>\n",
              "      <td>0.9430</td>\n",
              "      <td>['Vasilis Skaliotis']</td>\n",
              "      <td>0.447</td>\n",
              "      <td>161333</td>\n",
              "      <td>0.458</td>\n",
              "      <td>0.277000</td>\n",
              "      <td>0.3370</td>\n",
              "      <td>-6.389</td>\n",
              "      <td>0</td>\n",
              "      <td>0.0470</td>\n",
              "      <td>105.785</td>\n",
              "      <td>1</td>\n",
              "      <td>1</td>\n",
              "      <td>0</td>\n",
              "      <td>1</td>\n",
              "      <td>0</td>\n",
              "      <td>1</td>\n",
              "      <td>0</td>\n",
              "      <td>0</td>\n",
              "      <td>0</td>\n",
              "      <td>0</td>\n",
              "      <td>0</td>\n",
              "      <td>0</td>\n",
              "      <td>0</td>\n",
              "      <td>0</td>\n",
              "      <td>0</td>\n",
              "      <td>0</td>\n",
              "      <td>0</td>\n",
              "    </tr>\n",
              "    <tr>\n",
              "      <th>83543</th>\n",
              "      <td>0.218</td>\n",
              "      <td>1976</td>\n",
              "      <td>0.0593</td>\n",
              "      <td>['Aerosmith']</td>\n",
              "      <td>0.171</td>\n",
              "      <td>196667</td>\n",
              "      <td>0.512</td>\n",
              "      <td>0.000124</td>\n",
              "      <td>0.0710</td>\n",
              "      <td>-8.896</td>\n",
              "      <td>34</td>\n",
              "      <td>0.0290</td>\n",
              "      <td>78.975</td>\n",
              "      <td>1</td>\n",
              "      <td>1</td>\n",
              "      <td>0</td>\n",
              "      <td>0</td>\n",
              "      <td>1</td>\n",
              "      <td>0</td>\n",
              "      <td>0</td>\n",
              "      <td>0</td>\n",
              "      <td>0</td>\n",
              "      <td>0</td>\n",
              "      <td>0</td>\n",
              "      <td>0</td>\n",
              "      <td>0</td>\n",
              "      <td>1</td>\n",
              "      <td>0</td>\n",
              "      <td>0</td>\n",
              "      <td>0</td>\n",
              "    </tr>\n",
              "  </tbody>\n",
              "</table>\n",
              "</div>"
            ],
            "text/plain": [
              "        valence  year  acousticness  ... key_9  key_10  key_11\n",
              "168754    0.434  2011        0.8200  ...     1       0       0\n",
              "10775     0.466  1975        0.0469  ...     0       0       0\n",
              "48713     0.263  1977        0.2760  ...     1       0       0\n",
              "156719    0.943  1950        0.9430  ...     0       0       0\n",
              "83543     0.218  1976        0.0593  ...     0       0       0\n",
              "\n",
              "[5 rows x 30 columns]"
            ]
          },
          "metadata": {
            "tags": []
          },
          "execution_count": 52
        }
      ]
    },
    {
      "cell_type": "code",
      "metadata": {
        "colab": {
          "base_uri": "https://localhost:8080/",
          "height": 435
        },
        "id": "cFS3nfM6JV0W",
        "outputId": "c468d2a2-05ef-4a39-c8ed-dd639d3e5d3e"
      },
      "source": [
        "dfohe['artists'] = dfohe.artists.astype('category')  #label encoding\r\n",
        "dfohe['artists'] = dfohe['artists'].cat.codes\r\n",
        "dfohe"
      ],
      "execution_count": null,
      "outputs": [
        {
          "output_type": "execute_result",
          "data": {
            "text/html": [
              "<div>\n",
              "<style scoped>\n",
              "    .dataframe tbody tr th:only-of-type {\n",
              "        vertical-align: middle;\n",
              "    }\n",
              "\n",
              "    .dataframe tbody tr th {\n",
              "        vertical-align: top;\n",
              "    }\n",
              "\n",
              "    .dataframe thead th {\n",
              "        text-align: right;\n",
              "    }\n",
              "</style>\n",
              "<table border=\"1\" class=\"dataframe\">\n",
              "  <thead>\n",
              "    <tr style=\"text-align: right;\">\n",
              "      <th></th>\n",
              "      <th>valence</th>\n",
              "      <th>year</th>\n",
              "      <th>acousticness</th>\n",
              "      <th>artists</th>\n",
              "      <th>danceability</th>\n",
              "      <th>duration_ms</th>\n",
              "      <th>energy</th>\n",
              "      <th>instrumentalness</th>\n",
              "      <th>liveness</th>\n",
              "      <th>loudness</th>\n",
              "      <th>popularity</th>\n",
              "      <th>speechiness</th>\n",
              "      <th>tempo</th>\n",
              "      <th>popornot</th>\n",
              "      <th>explicit_0</th>\n",
              "      <th>explicit_1</th>\n",
              "      <th>mode_0</th>\n",
              "      <th>mode_1</th>\n",
              "      <th>key_0</th>\n",
              "      <th>key_1</th>\n",
              "      <th>key_2</th>\n",
              "      <th>key_3</th>\n",
              "      <th>key_4</th>\n",
              "      <th>key_5</th>\n",
              "      <th>key_6</th>\n",
              "      <th>key_7</th>\n",
              "      <th>key_8</th>\n",
              "      <th>key_9</th>\n",
              "      <th>key_10</th>\n",
              "      <th>key_11</th>\n",
              "    </tr>\n",
              "  </thead>\n",
              "  <tbody>\n",
              "    <tr>\n",
              "      <th>168754</th>\n",
              "      <td>0.434</td>\n",
              "      <td>2011</td>\n",
              "      <td>0.82000</td>\n",
              "      <td>19904</td>\n",
              "      <td>0.573</td>\n",
              "      <td>176013</td>\n",
              "      <td>0.324</td>\n",
              "      <td>0.000000</td>\n",
              "      <td>0.0618</td>\n",
              "      <td>-10.999</td>\n",
              "      <td>50</td>\n",
              "      <td>0.0390</td>\n",
              "      <td>100.416</td>\n",
              "      <td>1</td>\n",
              "      <td>1</td>\n",
              "      <td>0</td>\n",
              "      <td>1</td>\n",
              "      <td>0</td>\n",
              "      <td>0</td>\n",
              "      <td>0</td>\n",
              "      <td>0</td>\n",
              "      <td>0</td>\n",
              "      <td>0</td>\n",
              "      <td>0</td>\n",
              "      <td>0</td>\n",
              "      <td>0</td>\n",
              "      <td>0</td>\n",
              "      <td>1</td>\n",
              "      <td>0</td>\n",
              "      <td>0</td>\n",
              "    </tr>\n",
              "    <tr>\n",
              "      <th>10775</th>\n",
              "      <td>0.466</td>\n",
              "      <td>1975</td>\n",
              "      <td>0.04690</td>\n",
              "      <td>2460</td>\n",
              "      <td>0.279</td>\n",
              "      <td>389095</td>\n",
              "      <td>0.638</td>\n",
              "      <td>0.057200</td>\n",
              "      <td>0.1410</td>\n",
              "      <td>-12.569</td>\n",
              "      <td>46</td>\n",
              "      <td>0.0449</td>\n",
              "      <td>178.273</td>\n",
              "      <td>1</td>\n",
              "      <td>1</td>\n",
              "      <td>0</td>\n",
              "      <td>1</td>\n",
              "      <td>0</td>\n",
              "      <td>0</td>\n",
              "      <td>0</td>\n",
              "      <td>0</td>\n",
              "      <td>0</td>\n",
              "      <td>0</td>\n",
              "      <td>0</td>\n",
              "      <td>1</td>\n",
              "      <td>0</td>\n",
              "      <td>0</td>\n",
              "      <td>0</td>\n",
              "      <td>0</td>\n",
              "      <td>0</td>\n",
              "    </tr>\n",
              "    <tr>\n",
              "      <th>48713</th>\n",
              "      <td>0.263</td>\n",
              "      <td>1977</td>\n",
              "      <td>0.27600</td>\n",
              "      <td>5148</td>\n",
              "      <td>0.545</td>\n",
              "      <td>265733</td>\n",
              "      <td>0.229</td>\n",
              "      <td>0.000003</td>\n",
              "      <td>0.1320</td>\n",
              "      <td>-16.205</td>\n",
              "      <td>42</td>\n",
              "      <td>0.0298</td>\n",
              "      <td>121.716</td>\n",
              "      <td>1</td>\n",
              "      <td>1</td>\n",
              "      <td>0</td>\n",
              "      <td>0</td>\n",
              "      <td>1</td>\n",
              "      <td>0</td>\n",
              "      <td>0</td>\n",
              "      <td>0</td>\n",
              "      <td>0</td>\n",
              "      <td>0</td>\n",
              "      <td>0</td>\n",
              "      <td>0</td>\n",
              "      <td>0</td>\n",
              "      <td>0</td>\n",
              "      <td>1</td>\n",
              "      <td>0</td>\n",
              "      <td>0</td>\n",
              "    </tr>\n",
              "    <tr>\n",
              "      <th>156719</th>\n",
              "      <td>0.943</td>\n",
              "      <td>1950</td>\n",
              "      <td>0.94300</td>\n",
              "      <td>20443</td>\n",
              "      <td>0.447</td>\n",
              "      <td>161333</td>\n",
              "      <td>0.458</td>\n",
              "      <td>0.277000</td>\n",
              "      <td>0.3370</td>\n",
              "      <td>-6.389</td>\n",
              "      <td>0</td>\n",
              "      <td>0.0470</td>\n",
              "      <td>105.785</td>\n",
              "      <td>1</td>\n",
              "      <td>1</td>\n",
              "      <td>0</td>\n",
              "      <td>1</td>\n",
              "      <td>0</td>\n",
              "      <td>1</td>\n",
              "      <td>0</td>\n",
              "      <td>0</td>\n",
              "      <td>0</td>\n",
              "      <td>0</td>\n",
              "      <td>0</td>\n",
              "      <td>0</td>\n",
              "      <td>0</td>\n",
              "      <td>0</td>\n",
              "      <td>0</td>\n",
              "      <td>0</td>\n",
              "      <td>0</td>\n",
              "    </tr>\n",
              "    <tr>\n",
              "      <th>83543</th>\n",
              "      <td>0.218</td>\n",
              "      <td>1976</td>\n",
              "      <td>0.05930</td>\n",
              "      <td>667</td>\n",
              "      <td>0.171</td>\n",
              "      <td>196667</td>\n",
              "      <td>0.512</td>\n",
              "      <td>0.000124</td>\n",
              "      <td>0.0710</td>\n",
              "      <td>-8.896</td>\n",
              "      <td>34</td>\n",
              "      <td>0.0290</td>\n",
              "      <td>78.975</td>\n",
              "      <td>1</td>\n",
              "      <td>1</td>\n",
              "      <td>0</td>\n",
              "      <td>0</td>\n",
              "      <td>1</td>\n",
              "      <td>0</td>\n",
              "      <td>0</td>\n",
              "      <td>0</td>\n",
              "      <td>0</td>\n",
              "      <td>0</td>\n",
              "      <td>0</td>\n",
              "      <td>0</td>\n",
              "      <td>0</td>\n",
              "      <td>1</td>\n",
              "      <td>0</td>\n",
              "      <td>0</td>\n",
              "      <td>0</td>\n",
              "    </tr>\n",
              "    <tr>\n",
              "      <th>...</th>\n",
              "      <td>...</td>\n",
              "      <td>...</td>\n",
              "      <td>...</td>\n",
              "      <td>...</td>\n",
              "      <td>...</td>\n",
              "      <td>...</td>\n",
              "      <td>...</td>\n",
              "      <td>...</td>\n",
              "      <td>...</td>\n",
              "      <td>...</td>\n",
              "      <td>...</td>\n",
              "      <td>...</td>\n",
              "      <td>...</td>\n",
              "      <td>...</td>\n",
              "      <td>...</td>\n",
              "      <td>...</td>\n",
              "      <td>...</td>\n",
              "      <td>...</td>\n",
              "      <td>...</td>\n",
              "      <td>...</td>\n",
              "      <td>...</td>\n",
              "      <td>...</td>\n",
              "      <td>...</td>\n",
              "      <td>...</td>\n",
              "      <td>...</td>\n",
              "      <td>...</td>\n",
              "      <td>...</td>\n",
              "      <td>...</td>\n",
              "      <td>...</td>\n",
              "      <td>...</td>\n",
              "    </tr>\n",
              "    <tr>\n",
              "      <th>170648</th>\n",
              "      <td>0.608</td>\n",
              "      <td>2020</td>\n",
              "      <td>0.08460</td>\n",
              "      <td>1365</td>\n",
              "      <td>0.786</td>\n",
              "      <td>301714</td>\n",
              "      <td>0.808</td>\n",
              "      <td>0.000289</td>\n",
              "      <td>0.0822</td>\n",
              "      <td>-3.702</td>\n",
              "      <td>72</td>\n",
              "      <td>0.0881</td>\n",
              "      <td>105.029</td>\n",
              "      <td>0</td>\n",
              "      <td>1</td>\n",
              "      <td>0</td>\n",
              "      <td>0</td>\n",
              "      <td>1</td>\n",
              "      <td>0</td>\n",
              "      <td>0</td>\n",
              "      <td>0</td>\n",
              "      <td>0</td>\n",
              "      <td>0</td>\n",
              "      <td>0</td>\n",
              "      <td>0</td>\n",
              "      <td>1</td>\n",
              "      <td>0</td>\n",
              "      <td>0</td>\n",
              "      <td>0</td>\n",
              "      <td>0</td>\n",
              "    </tr>\n",
              "    <tr>\n",
              "      <th>170649</th>\n",
              "      <td>0.734</td>\n",
              "      <td>2020</td>\n",
              "      <td>0.20600</td>\n",
              "      <td>1573</td>\n",
              "      <td>0.717</td>\n",
              "      <td>150654</td>\n",
              "      <td>0.753</td>\n",
              "      <td>0.000000</td>\n",
              "      <td>0.1010</td>\n",
              "      <td>-6.020</td>\n",
              "      <td>68</td>\n",
              "      <td>0.0605</td>\n",
              "      <td>137.936</td>\n",
              "      <td>0</td>\n",
              "      <td>1</td>\n",
              "      <td>0</td>\n",
              "      <td>0</td>\n",
              "      <td>1</td>\n",
              "      <td>0</td>\n",
              "      <td>0</td>\n",
              "      <td>0</td>\n",
              "      <td>0</td>\n",
              "      <td>0</td>\n",
              "      <td>0</td>\n",
              "      <td>0</td>\n",
              "      <td>1</td>\n",
              "      <td>0</td>\n",
              "      <td>0</td>\n",
              "      <td>0</td>\n",
              "      <td>0</td>\n",
              "    </tr>\n",
              "    <tr>\n",
              "      <th>170650</th>\n",
              "      <td>0.637</td>\n",
              "      <td>2020</td>\n",
              "      <td>0.10100</td>\n",
              "      <td>12459</td>\n",
              "      <td>0.634</td>\n",
              "      <td>211280</td>\n",
              "      <td>0.858</td>\n",
              "      <td>0.000009</td>\n",
              "      <td>0.2580</td>\n",
              "      <td>-2.226</td>\n",
              "      <td>76</td>\n",
              "      <td>0.0809</td>\n",
              "      <td>91.688</td>\n",
              "      <td>0</td>\n",
              "      <td>1</td>\n",
              "      <td>0</td>\n",
              "      <td>1</td>\n",
              "      <td>0</td>\n",
              "      <td>0</td>\n",
              "      <td>0</td>\n",
              "      <td>0</td>\n",
              "      <td>0</td>\n",
              "      <td>1</td>\n",
              "      <td>0</td>\n",
              "      <td>0</td>\n",
              "      <td>0</td>\n",
              "      <td>0</td>\n",
              "      <td>0</td>\n",
              "      <td>0</td>\n",
              "      <td>0</td>\n",
              "    </tr>\n",
              "    <tr>\n",
              "      <th>170651</th>\n",
              "      <td>0.195</td>\n",
              "      <td>2020</td>\n",
              "      <td>0.00998</td>\n",
              "      <td>5802</td>\n",
              "      <td>0.671</td>\n",
              "      <td>337147</td>\n",
              "      <td>0.623</td>\n",
              "      <td>0.000008</td>\n",
              "      <td>0.6430</td>\n",
              "      <td>-7.161</td>\n",
              "      <td>70</td>\n",
              "      <td>0.3080</td>\n",
              "      <td>75.055</td>\n",
              "      <td>0</td>\n",
              "      <td>0</td>\n",
              "      <td>1</td>\n",
              "      <td>0</td>\n",
              "      <td>1</td>\n",
              "      <td>0</td>\n",
              "      <td>0</td>\n",
              "      <td>1</td>\n",
              "      <td>0</td>\n",
              "      <td>0</td>\n",
              "      <td>0</td>\n",
              "      <td>0</td>\n",
              "      <td>0</td>\n",
              "      <td>0</td>\n",
              "      <td>0</td>\n",
              "      <td>0</td>\n",
              "      <td>0</td>\n",
              "    </tr>\n",
              "    <tr>\n",
              "      <th>170652</th>\n",
              "      <td>0.642</td>\n",
              "      <td>2020</td>\n",
              "      <td>0.13200</td>\n",
              "      <td>10318</td>\n",
              "      <td>0.856</td>\n",
              "      <td>189507</td>\n",
              "      <td>0.721</td>\n",
              "      <td>0.004710</td>\n",
              "      <td>0.1820</td>\n",
              "      <td>-4.928</td>\n",
              "      <td>74</td>\n",
              "      <td>0.1080</td>\n",
              "      <td>94.991</td>\n",
              "      <td>0</td>\n",
              "      <td>0</td>\n",
              "      <td>1</td>\n",
              "      <td>0</td>\n",
              "      <td>1</td>\n",
              "      <td>0</td>\n",
              "      <td>0</td>\n",
              "      <td>0</td>\n",
              "      <td>0</td>\n",
              "      <td>0</td>\n",
              "      <td>0</td>\n",
              "      <td>0</td>\n",
              "      <td>1</td>\n",
              "      <td>0</td>\n",
              "      <td>0</td>\n",
              "      <td>0</td>\n",
              "      <td>0</td>\n",
              "    </tr>\n",
              "  </tbody>\n",
              "</table>\n",
              "<p>72536 rows × 30 columns</p>\n",
              "</div>"
            ],
            "text/plain": [
              "        valence  year  acousticness  artists  ...  key_8  key_9  key_10  key_11\n",
              "168754    0.434  2011       0.82000    19904  ...      0      1       0       0\n",
              "10775     0.466  1975       0.04690     2460  ...      0      0       0       0\n",
              "48713     0.263  1977       0.27600     5148  ...      0      1       0       0\n",
              "156719    0.943  1950       0.94300    20443  ...      0      0       0       0\n",
              "83543     0.218  1976       0.05930      667  ...      1      0       0       0\n",
              "...         ...   ...           ...      ...  ...    ...    ...     ...     ...\n",
              "170648    0.608  2020       0.08460     1365  ...      0      0       0       0\n",
              "170649    0.734  2020       0.20600     1573  ...      0      0       0       0\n",
              "170650    0.637  2020       0.10100    12459  ...      0      0       0       0\n",
              "170651    0.195  2020       0.00998     5802  ...      0      0       0       0\n",
              "170652    0.642  2020       0.13200    10318  ...      0      0       0       0\n",
              "\n",
              "[72536 rows x 30 columns]"
            ]
          },
          "metadata": {
            "tags": []
          },
          "execution_count": 53
        }
      ]
    },
    {
      "cell_type": "code",
      "metadata": {
        "id": "uu46s_Hpoysb"
      },
      "source": [
        "dfohe['artists'] = dfohe.artists.astype('int64')"
      ],
      "execution_count": null,
      "outputs": []
    },
    {
      "cell_type": "code",
      "metadata": {
        "colab": {
          "base_uri": "https://localhost:8080/"
        },
        "id": "mCA5xxL1tXuH",
        "outputId": "e7a0af19-5aeb-4c7c-ba1e-423d862e7a8d"
      },
      "source": [
        "val_int=[]\r\n",
        "val_others=[]\r\n",
        "for col in dfohe.columns:\r\n",
        "  if dfohe[col].dtype=='int64' or dfohe[col].dtype=='float64' :\r\n",
        "    val_int.append(col)\r\n",
        "  else:\r\n",
        "    val_others.append(col)\r\n",
        "\r\n",
        "print(val_int) #seperating int columns to normalise\r\n",
        "print(val_others)\r\n"
      ],
      "execution_count": null,
      "outputs": [
        {
          "output_type": "stream",
          "text": [
            "['valence', 'year', 'acousticness', 'artists', 'danceability', 'duration_ms', 'energy', 'instrumentalness', 'liveness', 'loudness', 'popularity', 'speechiness', 'tempo', 'popornot']\n",
            "['explicit_0', 'explicit_1', 'mode_0', 'mode_1', 'key_0', 'key_1', 'key_2', 'key_3', 'key_4', 'key_5', 'key_6', 'key_7', 'key_8', 'key_9', 'key_10', 'key_11']\n"
          ],
          "name": "stdout"
        }
      ]
    },
    {
      "cell_type": "code",
      "metadata": {
        "colab": {
          "base_uri": "https://localhost:8080/",
          "height": 435
        },
        "id": "YnEqRgr8tdCL",
        "outputId": "4784810b-a15e-412a-c139-e4b746b0251f"
      },
      "source": [
        "from sklearn import preprocessing\r\n",
        "x=dfohe[val_int]\r\n",
        "dfohe=dfohe.drop(val_int, axis=1)\r\n",
        "min_max_scaler=preprocessing.MinMaxScaler()\r\n",
        "x_val = min_max_scaler.fit_transform(x) #normalising via minmax scaler\r\n",
        "\r\n",
        "dffinal=pd.DataFrame(x_val,columns=val_int)\r\n",
        "dfnormal=pd.concat([dffinal, dfohe], axis=1)\r\n",
        "dfnormal"
      ],
      "execution_count": null,
      "outputs": [
        {
          "output_type": "execute_result",
          "data": {
            "text/html": [
              "<div>\n",
              "<style scoped>\n",
              "    .dataframe tbody tr th:only-of-type {\n",
              "        vertical-align: middle;\n",
              "    }\n",
              "\n",
              "    .dataframe tbody tr th {\n",
              "        vertical-align: top;\n",
              "    }\n",
              "\n",
              "    .dataframe thead th {\n",
              "        text-align: right;\n",
              "    }\n",
              "</style>\n",
              "<table border=\"1\" class=\"dataframe\">\n",
              "  <thead>\n",
              "    <tr style=\"text-align: right;\">\n",
              "      <th></th>\n",
              "      <th>valence</th>\n",
              "      <th>year</th>\n",
              "      <th>acousticness</th>\n",
              "      <th>artists</th>\n",
              "      <th>danceability</th>\n",
              "      <th>duration_ms</th>\n",
              "      <th>energy</th>\n",
              "      <th>instrumentalness</th>\n",
              "      <th>liveness</th>\n",
              "      <th>loudness</th>\n",
              "      <th>popularity</th>\n",
              "      <th>speechiness</th>\n",
              "      <th>tempo</th>\n",
              "      <th>popornot</th>\n",
              "      <th>explicit_0</th>\n",
              "      <th>explicit_1</th>\n",
              "      <th>mode_0</th>\n",
              "      <th>mode_1</th>\n",
              "      <th>key_0</th>\n",
              "      <th>key_1</th>\n",
              "      <th>key_2</th>\n",
              "      <th>key_3</th>\n",
              "      <th>key_4</th>\n",
              "      <th>key_5</th>\n",
              "      <th>key_6</th>\n",
              "      <th>key_7</th>\n",
              "      <th>key_8</th>\n",
              "      <th>key_9</th>\n",
              "      <th>key_10</th>\n",
              "      <th>key_11</th>\n",
              "    </tr>\n",
              "  </thead>\n",
              "  <tbody>\n",
              "    <tr>\n",
              "      <th>0</th>\n",
              "      <td>0.435743</td>\n",
              "      <td>0.909091</td>\n",
              "      <td>0.823293</td>\n",
              "      <td>0.910438</td>\n",
              "      <td>0.579960</td>\n",
              "      <td>0.040078</td>\n",
              "      <td>0.324</td>\n",
              "      <td>0.000000</td>\n",
              "      <td>0.061986</td>\n",
              "      <td>0.798816</td>\n",
              "      <td>0.50</td>\n",
              "      <td>0.040248</td>\n",
              "      <td>0.412374</td>\n",
              "      <td>1.0</td>\n",
              "      <td>1.0</td>\n",
              "      <td>0.0</td>\n",
              "      <td>0.0</td>\n",
              "      <td>1.0</td>\n",
              "      <td>0.0</td>\n",
              "      <td>0.0</td>\n",
              "      <td>0.0</td>\n",
              "      <td>0.0</td>\n",
              "      <td>0.0</td>\n",
              "      <td>0.0</td>\n",
              "      <td>0.0</td>\n",
              "      <td>0.0</td>\n",
              "      <td>0.0</td>\n",
              "      <td>0.0</td>\n",
              "      <td>1.0</td>\n",
              "      <td>0.0</td>\n",
              "    </tr>\n",
              "    <tr>\n",
              "      <th>1</th>\n",
              "      <td>0.467871</td>\n",
              "      <td>0.545455</td>\n",
              "      <td>0.047088</td>\n",
              "      <td>0.112524</td>\n",
              "      <td>0.282389</td>\n",
              "      <td>0.090047</td>\n",
              "      <td>0.638</td>\n",
              "      <td>0.057200</td>\n",
              "      <td>0.141424</td>\n",
              "      <td>0.773222</td>\n",
              "      <td>0.46</td>\n",
              "      <td>0.046336</td>\n",
              "      <td>0.732106</td>\n",
              "      <td>1.0</td>\n",
              "      <td>NaN</td>\n",
              "      <td>NaN</td>\n",
              "      <td>NaN</td>\n",
              "      <td>NaN</td>\n",
              "      <td>NaN</td>\n",
              "      <td>NaN</td>\n",
              "      <td>NaN</td>\n",
              "      <td>NaN</td>\n",
              "      <td>NaN</td>\n",
              "      <td>NaN</td>\n",
              "      <td>NaN</td>\n",
              "      <td>NaN</td>\n",
              "      <td>NaN</td>\n",
              "      <td>NaN</td>\n",
              "      <td>NaN</td>\n",
              "      <td>NaN</td>\n",
              "    </tr>\n",
              "    <tr>\n",
              "      <th>2</th>\n",
              "      <td>0.264056</td>\n",
              "      <td>0.565657</td>\n",
              "      <td>0.277108</td>\n",
              "      <td>0.235477</td>\n",
              "      <td>0.551619</td>\n",
              "      <td>0.061118</td>\n",
              "      <td>0.229</td>\n",
              "      <td>0.000003</td>\n",
              "      <td>0.132397</td>\n",
              "      <td>0.713948</td>\n",
              "      <td>0.42</td>\n",
              "      <td>0.030753</td>\n",
              "      <td>0.499846</td>\n",
              "      <td>1.0</td>\n",
              "      <td>NaN</td>\n",
              "      <td>NaN</td>\n",
              "      <td>NaN</td>\n",
              "      <td>NaN</td>\n",
              "      <td>NaN</td>\n",
              "      <td>NaN</td>\n",
              "      <td>NaN</td>\n",
              "      <td>NaN</td>\n",
              "      <td>NaN</td>\n",
              "      <td>NaN</td>\n",
              "      <td>NaN</td>\n",
              "      <td>NaN</td>\n",
              "      <td>NaN</td>\n",
              "      <td>NaN</td>\n",
              "      <td>NaN</td>\n",
              "      <td>NaN</td>\n",
              "    </tr>\n",
              "    <tr>\n",
              "      <th>3</th>\n",
              "      <td>0.946787</td>\n",
              "      <td>0.292929</td>\n",
              "      <td>0.946787</td>\n",
              "      <td>0.935093</td>\n",
              "      <td>0.452429</td>\n",
              "      <td>0.036636</td>\n",
              "      <td>0.458</td>\n",
              "      <td>0.277000</td>\n",
              "      <td>0.338014</td>\n",
              "      <td>0.873969</td>\n",
              "      <td>0.00</td>\n",
              "      <td>0.048504</td>\n",
              "      <td>0.434423</td>\n",
              "      <td>1.0</td>\n",
              "      <td>1.0</td>\n",
              "      <td>0.0</td>\n",
              "      <td>0.0</td>\n",
              "      <td>1.0</td>\n",
              "      <td>0.0</td>\n",
              "      <td>0.0</td>\n",
              "      <td>0.0</td>\n",
              "      <td>0.0</td>\n",
              "      <td>0.0</td>\n",
              "      <td>1.0</td>\n",
              "      <td>0.0</td>\n",
              "      <td>0.0</td>\n",
              "      <td>0.0</td>\n",
              "      <td>0.0</td>\n",
              "      <td>0.0</td>\n",
              "      <td>0.0</td>\n",
              "    </tr>\n",
              "    <tr>\n",
              "      <th>4</th>\n",
              "      <td>0.218876</td>\n",
              "      <td>0.555556</td>\n",
              "      <td>0.059538</td>\n",
              "      <td>0.030510</td>\n",
              "      <td>0.173077</td>\n",
              "      <td>0.044922</td>\n",
              "      <td>0.512</td>\n",
              "      <td>0.000124</td>\n",
              "      <td>0.071214</td>\n",
              "      <td>0.833100</td>\n",
              "      <td>0.34</td>\n",
              "      <td>0.029928</td>\n",
              "      <td>0.324323</td>\n",
              "      <td>1.0</td>\n",
              "      <td>1.0</td>\n",
              "      <td>0.0</td>\n",
              "      <td>0.0</td>\n",
              "      <td>1.0</td>\n",
              "      <td>0.0</td>\n",
              "      <td>0.0</td>\n",
              "      <td>0.0</td>\n",
              "      <td>1.0</td>\n",
              "      <td>0.0</td>\n",
              "      <td>0.0</td>\n",
              "      <td>0.0</td>\n",
              "      <td>0.0</td>\n",
              "      <td>0.0</td>\n",
              "      <td>0.0</td>\n",
              "      <td>0.0</td>\n",
              "      <td>0.0</td>\n",
              "    </tr>\n",
              "    <tr>\n",
              "      <th>...</th>\n",
              "      <td>...</td>\n",
              "      <td>...</td>\n",
              "      <td>...</td>\n",
              "      <td>...</td>\n",
              "      <td>...</td>\n",
              "      <td>...</td>\n",
              "      <td>...</td>\n",
              "      <td>...</td>\n",
              "      <td>...</td>\n",
              "      <td>...</td>\n",
              "      <td>...</td>\n",
              "      <td>...</td>\n",
              "      <td>...</td>\n",
              "      <td>...</td>\n",
              "      <td>...</td>\n",
              "      <td>...</td>\n",
              "      <td>...</td>\n",
              "      <td>...</td>\n",
              "      <td>...</td>\n",
              "      <td>...</td>\n",
              "      <td>...</td>\n",
              "      <td>...</td>\n",
              "      <td>...</td>\n",
              "      <td>...</td>\n",
              "      <td>...</td>\n",
              "      <td>...</td>\n",
              "      <td>...</td>\n",
              "      <td>...</td>\n",
              "      <td>...</td>\n",
              "      <td>...</td>\n",
              "    </tr>\n",
              "    <tr>\n",
              "      <th>170648</th>\n",
              "      <td>NaN</td>\n",
              "      <td>NaN</td>\n",
              "      <td>NaN</td>\n",
              "      <td>NaN</td>\n",
              "      <td>NaN</td>\n",
              "      <td>NaN</td>\n",
              "      <td>NaN</td>\n",
              "      <td>NaN</td>\n",
              "      <td>NaN</td>\n",
              "      <td>NaN</td>\n",
              "      <td>NaN</td>\n",
              "      <td>NaN</td>\n",
              "      <td>NaN</td>\n",
              "      <td>NaN</td>\n",
              "      <td>1.0</td>\n",
              "      <td>0.0</td>\n",
              "      <td>0.0</td>\n",
              "      <td>1.0</td>\n",
              "      <td>0.0</td>\n",
              "      <td>0.0</td>\n",
              "      <td>0.0</td>\n",
              "      <td>0.0</td>\n",
              "      <td>0.0</td>\n",
              "      <td>0.0</td>\n",
              "      <td>0.0</td>\n",
              "      <td>1.0</td>\n",
              "      <td>0.0</td>\n",
              "      <td>0.0</td>\n",
              "      <td>0.0</td>\n",
              "      <td>0.0</td>\n",
              "    </tr>\n",
              "    <tr>\n",
              "      <th>170649</th>\n",
              "      <td>NaN</td>\n",
              "      <td>NaN</td>\n",
              "      <td>NaN</td>\n",
              "      <td>NaN</td>\n",
              "      <td>NaN</td>\n",
              "      <td>NaN</td>\n",
              "      <td>NaN</td>\n",
              "      <td>NaN</td>\n",
              "      <td>NaN</td>\n",
              "      <td>NaN</td>\n",
              "      <td>NaN</td>\n",
              "      <td>NaN</td>\n",
              "      <td>NaN</td>\n",
              "      <td>NaN</td>\n",
              "      <td>1.0</td>\n",
              "      <td>0.0</td>\n",
              "      <td>0.0</td>\n",
              "      <td>1.0</td>\n",
              "      <td>0.0</td>\n",
              "      <td>0.0</td>\n",
              "      <td>0.0</td>\n",
              "      <td>0.0</td>\n",
              "      <td>0.0</td>\n",
              "      <td>0.0</td>\n",
              "      <td>0.0</td>\n",
              "      <td>1.0</td>\n",
              "      <td>0.0</td>\n",
              "      <td>0.0</td>\n",
              "      <td>0.0</td>\n",
              "      <td>0.0</td>\n",
              "    </tr>\n",
              "    <tr>\n",
              "      <th>170650</th>\n",
              "      <td>NaN</td>\n",
              "      <td>NaN</td>\n",
              "      <td>NaN</td>\n",
              "      <td>NaN</td>\n",
              "      <td>NaN</td>\n",
              "      <td>NaN</td>\n",
              "      <td>NaN</td>\n",
              "      <td>NaN</td>\n",
              "      <td>NaN</td>\n",
              "      <td>NaN</td>\n",
              "      <td>NaN</td>\n",
              "      <td>NaN</td>\n",
              "      <td>NaN</td>\n",
              "      <td>NaN</td>\n",
              "      <td>1.0</td>\n",
              "      <td>0.0</td>\n",
              "      <td>1.0</td>\n",
              "      <td>0.0</td>\n",
              "      <td>0.0</td>\n",
              "      <td>0.0</td>\n",
              "      <td>0.0</td>\n",
              "      <td>0.0</td>\n",
              "      <td>1.0</td>\n",
              "      <td>0.0</td>\n",
              "      <td>0.0</td>\n",
              "      <td>0.0</td>\n",
              "      <td>0.0</td>\n",
              "      <td>0.0</td>\n",
              "      <td>0.0</td>\n",
              "      <td>0.0</td>\n",
              "    </tr>\n",
              "    <tr>\n",
              "      <th>170651</th>\n",
              "      <td>NaN</td>\n",
              "      <td>NaN</td>\n",
              "      <td>NaN</td>\n",
              "      <td>NaN</td>\n",
              "      <td>NaN</td>\n",
              "      <td>NaN</td>\n",
              "      <td>NaN</td>\n",
              "      <td>NaN</td>\n",
              "      <td>NaN</td>\n",
              "      <td>NaN</td>\n",
              "      <td>NaN</td>\n",
              "      <td>NaN</td>\n",
              "      <td>NaN</td>\n",
              "      <td>NaN</td>\n",
              "      <td>0.0</td>\n",
              "      <td>1.0</td>\n",
              "      <td>0.0</td>\n",
              "      <td>1.0</td>\n",
              "      <td>0.0</td>\n",
              "      <td>0.0</td>\n",
              "      <td>1.0</td>\n",
              "      <td>0.0</td>\n",
              "      <td>0.0</td>\n",
              "      <td>0.0</td>\n",
              "      <td>0.0</td>\n",
              "      <td>0.0</td>\n",
              "      <td>0.0</td>\n",
              "      <td>0.0</td>\n",
              "      <td>0.0</td>\n",
              "      <td>0.0</td>\n",
              "    </tr>\n",
              "    <tr>\n",
              "      <th>170652</th>\n",
              "      <td>NaN</td>\n",
              "      <td>NaN</td>\n",
              "      <td>NaN</td>\n",
              "      <td>NaN</td>\n",
              "      <td>NaN</td>\n",
              "      <td>NaN</td>\n",
              "      <td>NaN</td>\n",
              "      <td>NaN</td>\n",
              "      <td>NaN</td>\n",
              "      <td>NaN</td>\n",
              "      <td>NaN</td>\n",
              "      <td>NaN</td>\n",
              "      <td>NaN</td>\n",
              "      <td>NaN</td>\n",
              "      <td>0.0</td>\n",
              "      <td>1.0</td>\n",
              "      <td>0.0</td>\n",
              "      <td>1.0</td>\n",
              "      <td>0.0</td>\n",
              "      <td>0.0</td>\n",
              "      <td>0.0</td>\n",
              "      <td>0.0</td>\n",
              "      <td>0.0</td>\n",
              "      <td>0.0</td>\n",
              "      <td>0.0</td>\n",
              "      <td>1.0</td>\n",
              "      <td>0.0</td>\n",
              "      <td>0.0</td>\n",
              "      <td>0.0</td>\n",
              "      <td>0.0</td>\n",
              "    </tr>\n",
              "  </tbody>\n",
              "</table>\n",
              "<p>109323 rows × 30 columns</p>\n",
              "</div>"
            ],
            "text/plain": [
              "         valence      year  acousticness  ...  key_9  key_10  key_11\n",
              "0       0.435743  0.909091      0.823293  ...    0.0     1.0     0.0\n",
              "1       0.467871  0.545455      0.047088  ...    NaN     NaN     NaN\n",
              "2       0.264056  0.565657      0.277108  ...    NaN     NaN     NaN\n",
              "3       0.946787  0.292929      0.946787  ...    0.0     0.0     0.0\n",
              "4       0.218876  0.555556      0.059538  ...    0.0     0.0     0.0\n",
              "...          ...       ...           ...  ...    ...     ...     ...\n",
              "170648       NaN       NaN           NaN  ...    0.0     0.0     0.0\n",
              "170649       NaN       NaN           NaN  ...    0.0     0.0     0.0\n",
              "170650       NaN       NaN           NaN  ...    0.0     0.0     0.0\n",
              "170651       NaN       NaN           NaN  ...    0.0     0.0     0.0\n",
              "170652       NaN       NaN           NaN  ...    0.0     0.0     0.0\n",
              "\n",
              "[109323 rows x 30 columns]"
            ]
          },
          "metadata": {
            "tags": []
          },
          "execution_count": 56
        }
      ]
    },
    {
      "cell_type": "code",
      "metadata": {
        "id": "d5LlY0jNpHLJ"
      },
      "source": [
        "dffinal=dfnormal.round(decimals=5)"
      ],
      "execution_count": null,
      "outputs": []
    },
    {
      "cell_type": "code",
      "metadata": {
        "id": "KQsQyLjumi14"
      },
      "source": [
        "dff=dffinal.dropna()\r\n"
      ],
      "execution_count": null,
      "outputs": []
    },
    {
      "cell_type": "code",
      "metadata": {
        "id": "kMuPR25_erVc"
      },
      "source": [
        "#ALGOS\r\n",
        "\r\n",
        "from sklearn.model_selection import train_test_split\r\n",
        "dff = dff.drop(labels=['popularity'], axis=1)\r\n",
        "#df = df.drop(labels=['artists','popularity'], axis=1)\r\n",
        "y = dff['popornot']\r\n",
        "dff=dff.drop(columns=['popornot'])\r\n"
      ],
      "execution_count": null,
      "outputs": []
    },
    {
      "cell_type": "code",
      "metadata": {
        "id": "Xuvx4vVfgEw5"
      },
      "source": [
        "X_train, X_test, y_train, y_test = train_test_split(dff, y, train_size=0.8, random_state=42)"
      ],
      "execution_count": null,
      "outputs": []
    },
    {
      "cell_type": "code",
      "metadata": {
        "id": "SZR_f9SIl--1"
      },
      "source": [
        "from sklearn import preprocessing\r\n",
        "from sklearn.model_selection import cross_val_score, cross_val_predict\r\n",
        "from sklearn.metrics import accuracy_score, classification_report\r\n",
        "from sklearn.metrics import confusion_matrix, roc_auc_score\r\n",
        "def print_score(clf, X_train, X_test, y_train, y_test, train=True):\r\n",
        "    '''\r\n",
        "    v0.1 Follow the scikit learn library format in terms of input\r\n",
        "    print the accuracy score, classification report and confusion matrix of classifier\r\n",
        "    '''\r\n",
        "    lb = preprocessing.LabelBinarizer()\r\n",
        "    lb.fit(y_train)\r\n",
        "    if train:\r\n",
        "        '''\r\n",
        "        training performance\r\n",
        "        '''\r\n",
        "        res = clf.predict(X_train)\r\n",
        "        print(\"Train Result:\\n\")\r\n",
        "        print(\"accuracy score: {0:.4f}\\n\".format(accuracy_score(y_train, \r\n",
        "                                                                res)))\r\n",
        "        print(\"Classification Report: \\n {}\\n\".format(classification_report(y_train, \r\n",
        "                                                                            res)))\r\n",
        "        print(\"Confusion Matrix: \\n {}\\n\".format(confusion_matrix(y_train, \r\n",
        "                                                                  res)))\r\n",
        "        print(\"ROC AUC: {0:.4f}\\n\".format(roc_auc_score(lb.transform(y_train), \r\n",
        "                                                      lb.transform(res))))\r\n",
        "\r\n",
        "        res = cross_val_score(clf, X_train, y_train, cv=10, scoring='accuracy')\r\n",
        "        print(\"Average Accuracy: \\t {0:.4f}\".format(np.mean(res)))\r\n",
        "        print(\"Accuracy SD: \\t\\t {0:.4f}\".format(np.std(res)))\r\n",
        "        \r\n",
        "    elif train==False:\r\n",
        "        '''\r\n",
        "        test performance\r\n",
        "        '''\r\n",
        "        res_test = clf.predict(X_test)\r\n",
        "        print(\"Test Result:\\n\")        \r\n",
        "        print(\"accuracy score: {0:.4f}\\n\".format(accuracy_score(y_test, \r\n",
        "                                                                res_test)))\r\n",
        "        print(\"Classification Report: \\n {}\\n\".format(classification_report(y_test, \r\n",
        "                                                                            res_test)))\r\n",
        "        print(\"Confusion Matrix: \\n {}\\n\".format(confusion_matrix(y_test, \r\n",
        "                                                                  res_test)))   \r\n",
        "        print(\"ROC AUC: {0:.4f}\\n\".format(roc_auc_score(lb.transform(y_test), \r\n",
        "                                                      lb.transform(res_test))))"
      ],
      "execution_count": null,
      "outputs": []
    },
    {
      "cell_type": "code",
      "metadata": {
        "colab": {
          "base_uri": "https://localhost:8080/"
        },
        "id": "XJcFtO3sFpy9",
        "outputId": "c739535a-aada-4f59-f198-f838f6f94fc6"
      },
      "source": [
        "#knn\r\n",
        "from sklearn.neighbors import KNeighborsClassifier\r\n",
        "knn = KNeighborsClassifier(n_neighbors=5,p=2, metric='minkowski') #using minkowski distance\r\n",
        "knn.fit(X_train, y_train)"
      ],
      "execution_count": null,
      "outputs": [
        {
          "output_type": "execute_result",
          "data": {
            "text/plain": [
              "KNeighborsClassifier(algorithm='auto', leaf_size=30, metric='minkowski',\n",
              "                     metric_params=None, n_jobs=None, n_neighbors=5, p=2,\n",
              "                     weights='uniform')"
            ]
          },
          "metadata": {
            "tags": []
          },
          "execution_count": 70
        }
      ]
    },
    {
      "cell_type": "code",
      "metadata": {
        "colab": {
          "base_uri": "https://localhost:8080/",
          "height": 1000
        },
        "id": "2wX796GVFwpQ",
        "outputId": "c79b1ab4-760d-45cf-f712-e3a33e17bc8c"
      },
      "source": [
        "print_score(knn, X_train, X_test, y_train, y_test, train=True) #THIS IS ORIGINAL, 100 x 100\r\n",
        "print_score(knn, X_train, X_test, y_train, y_test, train=False)"
      ],
      "execution_count": null,
      "outputs": [
        {
          "output_type": "stream",
          "text": [
            "Train Result:\n",
            "\n",
            "accuracy score: 0.3102\n",
            "\n"
          ],
          "name": "stdout"
        },
        {
          "output_type": "stream",
          "text": [
            "/usr/local/lib/python3.6/dist-packages/sklearn/metrics/_classification.py:1272: UndefinedMetricWarning: Precision and F-score are ill-defined and being set to 0.0 in labels with no predicted samples. Use `zero_division` parameter to control this behavior.\n",
            "  _warn_prf(average, modifier, msg_start, len(result))\n"
          ],
          "name": "stderr"
        },
        {
          "output_type": "stream",
          "text": [
            "Classification Report: \n",
            "               precision    recall  f1-score   support\n",
            "\n",
            "           0       0.50      0.98      0.66     22222\n",
            "           1       0.27      0.24      0.25      2312\n",
            "           2       0.22      0.22      0.22      1396\n",
            "           3       0.20      0.19      0.19      1172\n",
            "           4       0.20      0.21      0.21       877\n",
            "           5       0.19      0.21      0.20       818\n",
            "           6       0.18      0.18      0.18       812\n",
            "           7       0.17      0.20      0.18       894\n",
            "           8       0.20      0.22      0.21       886\n",
            "           9       0.19      0.24      0.21       973\n",
            "          10       0.18      0.20      0.19       950\n",
            "          11       0.18      0.20      0.19       941\n",
            "          12       0.19      0.23      0.21       926\n",
            "          13       0.19      0.23      0.21      1008\n",
            "          14       0.17      0.18      0.17       992\n",
            "          15       0.17      0.17      0.17       982\n",
            "          16       0.18      0.18      0.18       963\n",
            "          17       0.19      0.20      0.19      1002\n",
            "          18       0.18      0.20      0.19      1012\n",
            "          19       0.19      0.23      0.21      1085\n",
            "          20       0.20      0.29      0.24      1239\n",
            "          21       0.19      0.29      0.23      1408\n",
            "          22       0.21      0.33      0.26      1758\n",
            "          23       0.20      0.30      0.24      1643\n",
            "          24       0.21      0.32      0.25      1931\n",
            "          25       0.21      0.31      0.25      1932\n",
            "          26       0.21      0.29      0.24      1982\n",
            "          27       0.22      0.28      0.24      2022\n",
            "          28       0.22      0.29      0.25      1981\n",
            "          29       0.20      0.24      0.22      1941\n",
            "          30       0.21      0.24      0.22      2003\n",
            "          31       0.21      0.24      0.22      2104\n",
            "          32       0.21      0.23      0.22      2084\n",
            "          33       0.20      0.20      0.20      2083\n",
            "          34       0.21      0.22      0.22      2242\n",
            "          35       0.21      0.21      0.21      2284\n",
            "          36       0.19      0.20      0.20      2347\n",
            "          37       0.20      0.20      0.20      2273\n",
            "          38       0.20      0.19      0.20      2199\n",
            "          39       0.21      0.20      0.20      2385\n",
            "          40       0.22      0.21      0.22      2459\n",
            "          41       0.22      0.20      0.21      2421\n",
            "          42       0.22      0.20      0.21      2460\n",
            "          43       0.23      0.18      0.21      2496\n",
            "          44       0.25      0.19      0.22      2502\n",
            "          45       0.24      0.15      0.19      2269\n",
            "          46       0.25      0.15      0.19      2286\n",
            "          47       0.25      0.14      0.18      2239\n",
            "          48       0.27      0.14      0.18      2186\n",
            "          49       0.29      0.13      0.18      2192\n",
            "          50       0.29      0.12      0.17      1987\n",
            "          51       0.31      0.13      0.18      1981\n",
            "          52       0.33      0.12      0.17      1892\n",
            "          53       0.35      0.11      0.16      1849\n",
            "          54       0.37      0.10      0.16      1684\n",
            "          55       0.32      0.09      0.14      1661\n",
            "          56       0.33      0.08      0.13      1491\n",
            "          57       0.35      0.08      0.13      1507\n",
            "          58       0.38      0.08      0.13      1484\n",
            "          59       0.43      0.08      0.14      1403\n",
            "          60       0.37      0.06      0.11      1303\n",
            "          61       0.41      0.07      0.11      1278\n",
            "          62       0.39      0.06      0.10      1096\n",
            "          63       0.45      0.06      0.11      1149\n",
            "          64       0.48      0.07      0.13      1035\n",
            "          65       0.51      0.09      0.16       956\n",
            "          66       0.45      0.05      0.10       941\n",
            "          67       0.44      0.06      0.10       806\n",
            "          68       0.56      0.07      0.12       714\n",
            "          69       0.46      0.04      0.08       670\n",
            "          70       0.51      0.06      0.10       614\n",
            "          71       0.53      0.03      0.06       521\n",
            "          72       0.57      0.06      0.11       479\n",
            "          73       0.44      0.05      0.09       418\n",
            "          74       0.39      0.02      0.04       356\n",
            "          75       0.46      0.02      0.04       296\n",
            "          76       0.71      0.02      0.04       271\n",
            "          77       0.60      0.01      0.03       229\n",
            "          78       0.75      0.02      0.03       180\n",
            "          79       0.50      0.01      0.02       157\n",
            "          80       0.00      0.00      0.00       107\n",
            "          81       0.00      0.00      0.00        85\n",
            "          82       0.67      0.03      0.05        76\n",
            "          83       0.00      0.00      0.00        59\n",
            "          84       0.40      0.04      0.07        53\n",
            "          85       0.00      0.00      0.00        41\n",
            "          86       0.40      0.06      0.11        33\n",
            "          87       0.00      0.00      0.00        21\n",
            "          88       0.00      0.00      0.00        12\n",
            "          89       0.00      0.00      0.00        14\n",
            "          90       0.00      0.00      0.00         8\n",
            "          91       0.00      0.00      0.00         9\n",
            "          92       0.00      0.00      0.00         5\n",
            "          93       0.00      0.00      0.00         3\n",
            "          94       0.00      0.00      0.00         4\n",
            "          95       0.00      0.00      0.00         3\n",
            "          96       0.00      0.00      0.00         4\n",
            "          97       0.00      0.00      0.00         1\n",
            "          99       0.00      0.00      0.00         1\n",
            "         100       0.00      0.00      0.00         1\n",
            "\n",
            "    accuracy                           0.31    136522\n",
            "   macro avg       0.26      0.14      0.14    136522\n",
            "weighted avg       0.30      0.31      0.27    136522\n",
            "\n",
            "\n",
            "Confusion Matrix: \n",
            " [[21750    79    22 ...     0     0     0]\n",
            " [ 1673   552     7 ...     0     0     0]\n",
            " [  962    36   307 ...     0     0     0]\n",
            " ...\n",
            " [    0     0     0 ...     0     0     0]\n",
            " [    0     0     0 ...     0     0     0]\n",
            " [    0     0     0 ...     0     0     0]]\n",
            "\n",
            "ROC AUC: 0.5650\n",
            "\n"
          ],
          "name": "stdout"
        },
        {
          "output_type": "stream",
          "text": [
            "/usr/local/lib/python3.6/dist-packages/sklearn/model_selection/_split.py:667: UserWarning: The least populated class in y has only 1 members, which is less than n_splits=10.\n",
            "  % (min_groups, self.n_splits)), UserWarning)\n"
          ],
          "name": "stderr"
        },
        {
          "output_type": "stream",
          "text": [
            "Average Accuracy: \t 0.1496\n",
            "Accuracy SD: \t\t 0.0011\n",
            "Test Result:\n",
            "\n",
            "accuracy score: 0.1534\n",
            "\n",
            "Classification Report: \n",
            "               precision    recall  f1-score   support\n",
            "\n",
            "           0       0.43      0.85      0.57      5670\n",
            "           1       0.04      0.04      0.04       564\n",
            "           2       0.01      0.01      0.01       337\n",
            "           3       0.01      0.01      0.01       295\n",
            "           4       0.03      0.03      0.03       237\n",
            "           5       0.02      0.02      0.02       200\n",
            "           6       0.01      0.01      0.01       205\n",
            "           7       0.01      0.01      0.01       222\n",
            "           8       0.01      0.01      0.01       242\n",
            "           9       0.00      0.00      0.00       240\n",
            "          10       0.00      0.00      0.00       246\n",
            "          11       0.02      0.02      0.02       230\n",
            "          12       0.02      0.02      0.02       238\n",
            "          13       0.01      0.01      0.01       241\n",
            "          14       0.01      0.01      0.01       231\n",
            "          15       0.02      0.02      0.02       241\n",
            "          16       0.02      0.02      0.02       234\n",
            "          17       0.03      0.04      0.03       228\n",
            "          18       0.00      0.00      0.00       251\n",
            "          19       0.01      0.02      0.01       249\n",
            "          20       0.02      0.02      0.02       341\n",
            "          21       0.02      0.02      0.02       333\n",
            "          22       0.01      0.02      0.02       414\n",
            "          23       0.01      0.02      0.02       420\n",
            "          24       0.02      0.03      0.02       437\n",
            "          25       0.02      0.03      0.03       486\n",
            "          26       0.02      0.03      0.02       451\n",
            "          27       0.02      0.03      0.02       506\n",
            "          28       0.02      0.02      0.02       477\n",
            "          29       0.02      0.03      0.03       517\n",
            "          30       0.01      0.01      0.01       504\n",
            "          31       0.01      0.02      0.01       511\n",
            "          32       0.01      0.01      0.01       541\n",
            "          33       0.03      0.03      0.03       524\n",
            "          34       0.02      0.02      0.02       561\n",
            "          35       0.02      0.02      0.02       580\n",
            "          36       0.02      0.02      0.02       549\n",
            "          37       0.01      0.01      0.01       563\n",
            "          38       0.02      0.01      0.02       550\n",
            "          39       0.02      0.02      0.02       583\n",
            "          40       0.02      0.02      0.02       592\n",
            "          41       0.02      0.02      0.02       657\n",
            "          42       0.02      0.02      0.02       591\n",
            "          43       0.02      0.01      0.02       640\n",
            "          44       0.02      0.01      0.02       615\n",
            "          45       0.03      0.01      0.02       563\n",
            "          46       0.03      0.02      0.02       597\n",
            "          47       0.02      0.01      0.02       567\n",
            "          48       0.02      0.01      0.01       540\n",
            "          49       0.04      0.02      0.03       497\n",
            "          50       0.02      0.01      0.01       498\n",
            "          51       0.02      0.01      0.01       472\n",
            "          52       0.05      0.01      0.02       495\n",
            "          53       0.01      0.00      0.01       484\n",
            "          54       0.05      0.01      0.02       443\n",
            "          55       0.01      0.00      0.00       416\n",
            "          56       0.01      0.00      0.00       375\n",
            "          57       0.01      0.00      0.00       380\n",
            "          58       0.01      0.00      0.00       360\n",
            "          59       0.03      0.01      0.01       357\n",
            "          60       0.02      0.00      0.01       349\n",
            "          61       0.02      0.00      0.01       348\n",
            "          62       0.04      0.00      0.01       319\n",
            "          63       0.05      0.01      0.01       298\n",
            "          64       0.00      0.00      0.00       252\n",
            "          65       0.03      0.00      0.01       256\n",
            "          66       0.00      0.00      0.00       243\n",
            "          67       0.04      0.01      0.01       194\n",
            "          68       0.00      0.00      0.00       163\n",
            "          69       0.00      0.00      0.00       167\n",
            "          70       0.06      0.01      0.01       136\n",
            "          71       0.00      0.00      0.00       127\n",
            "          72       0.00      0.00      0.00       105\n",
            "          73       0.20      0.01      0.02        88\n",
            "          74       0.00      0.00      0.00        88\n",
            "          75       0.00      0.00      0.00        51\n",
            "          76       0.00      0.00      0.00        74\n",
            "          77       0.00      0.00      0.00        63\n",
            "          78       0.00      0.00      0.00        39\n",
            "          79       0.00      0.00      0.00        35\n",
            "          80       0.00      0.00      0.00        32\n",
            "          81       0.00      0.00      0.00        29\n",
            "          82       0.00      0.00      0.00        24\n",
            "          83       0.00      0.00      0.00        15\n",
            "          84       0.00      0.00      0.00        16\n",
            "          85       0.00      0.00      0.00         7\n",
            "          86       0.00      0.00      0.00         6\n",
            "          87       0.00      0.00      0.00         2\n",
            "          88       0.00      0.00      0.00         5\n",
            "          89       0.00      0.00      0.00         1\n",
            "          90       0.00      0.00      0.00         3\n",
            "          92       0.00      0.00      0.00         6\n",
            "          93       0.00      0.00      0.00         1\n",
            "          95       0.00      0.00      0.00         1\n",
            "\n",
            "    accuracy                           0.15     34131\n",
            "   macro avg       0.02      0.02      0.02     34131\n",
            "weighted avg       0.09      0.15      0.11     34131\n",
            "\n",
            "\n",
            "Confusion Matrix: \n",
            " [[4818  139   65 ...    0    0    0]\n",
            " [ 469   21   10 ...    0    0    0]\n",
            " [ 249   11    4 ...    0    0    0]\n",
            " ...\n",
            " [   0    1    0 ...    0    0    0]\n",
            " [   0    0    0 ...    0    0    0]\n",
            " [   0    0    0 ...    0    0    0]]\n",
            "\n"
          ],
          "name": "stdout"
        },
        {
          "output_type": "stream",
          "text": [
            "/usr/local/lib/python3.6/dist-packages/sklearn/metrics/_classification.py:1272: UndefinedMetricWarning: Precision and F-score are ill-defined and being set to 0.0 in labels with no predicted samples. Use `zero_division` parameter to control this behavior.\n",
            "  _warn_prf(average, modifier, msg_start, len(result))\n"
          ],
          "name": "stderr"
        },
        {
          "output_type": "error",
          "ename": "ValueError",
          "evalue": "ignored",
          "traceback": [
            "\u001b[0;31m---------------------------------------------------------------------------\u001b[0m",
            "\u001b[0;31mValueError\u001b[0m                                Traceback (most recent call last)",
            "\u001b[0;32m<ipython-input-43-5a57584128ad>\u001b[0m in \u001b[0;36m<module>\u001b[0;34m()\u001b[0m\n\u001b[1;32m      1\u001b[0m \u001b[0mprint_score\u001b[0m\u001b[0;34m(\u001b[0m\u001b[0mknn\u001b[0m\u001b[0;34m,\u001b[0m \u001b[0mX_train\u001b[0m\u001b[0;34m,\u001b[0m \u001b[0mX_test\u001b[0m\u001b[0;34m,\u001b[0m \u001b[0my_train\u001b[0m\u001b[0;34m,\u001b[0m \u001b[0my_test\u001b[0m\u001b[0;34m,\u001b[0m \u001b[0mtrain\u001b[0m\u001b[0;34m=\u001b[0m\u001b[0;32mTrue\u001b[0m\u001b[0;34m)\u001b[0m\u001b[0;34m\u001b[0m\u001b[0;34m\u001b[0m\u001b[0m\n\u001b[0;32m----> 2\u001b[0;31m \u001b[0mprint_score\u001b[0m\u001b[0;34m(\u001b[0m\u001b[0mknn\u001b[0m\u001b[0;34m,\u001b[0m \u001b[0mX_train\u001b[0m\u001b[0;34m,\u001b[0m \u001b[0mX_test\u001b[0m\u001b[0;34m,\u001b[0m \u001b[0my_train\u001b[0m\u001b[0;34m,\u001b[0m \u001b[0my_test\u001b[0m\u001b[0;34m,\u001b[0m \u001b[0mtrain\u001b[0m\u001b[0;34m=\u001b[0m\u001b[0;32mFalse\u001b[0m\u001b[0;34m)\u001b[0m\u001b[0;34m\u001b[0m\u001b[0;34m\u001b[0m\u001b[0m\n\u001b[0m",
            "\u001b[0;32m<ipython-input-41-abce1921655a>\u001b[0m in \u001b[0;36mprint_score\u001b[0;34m(clf, X_train, X_test, y_train, y_test, train)\u001b[0m\n\u001b[1;32m     42\u001b[0m                                                                   res_test)))   \n\u001b[1;32m     43\u001b[0m         print(\"ROC AUC: {0:.4f}\\n\".format(roc_auc_score(lb.transform(y_test), \n\u001b[0;32m---> 44\u001b[0;31m                                                       lb.transform(res_test))))\n\u001b[0m",
            "\u001b[0;32m/usr/local/lib/python3.6/dist-packages/sklearn/metrics/_ranking.py\u001b[0m in \u001b[0;36mroc_auc_score\u001b[0;34m(y_true, y_score, average, sample_weight, max_fpr, multi_class, labels)\u001b[0m\n\u001b[1;32m    393\u001b[0m                                              max_fpr=max_fpr),\n\u001b[1;32m    394\u001b[0m                                      \u001b[0my_true\u001b[0m\u001b[0;34m,\u001b[0m \u001b[0my_score\u001b[0m\u001b[0;34m,\u001b[0m \u001b[0maverage\u001b[0m\u001b[0;34m,\u001b[0m\u001b[0;34m\u001b[0m\u001b[0;34m\u001b[0m\u001b[0m\n\u001b[0;32m--> 395\u001b[0;31m                                      sample_weight=sample_weight)\n\u001b[0m\u001b[1;32m    396\u001b[0m \u001b[0;34m\u001b[0m\u001b[0m\n\u001b[1;32m    397\u001b[0m \u001b[0;34m\u001b[0m\u001b[0m\n",
            "\u001b[0;32m/usr/local/lib/python3.6/dist-packages/sklearn/metrics/_base.py\u001b[0m in \u001b[0;36m_average_binary_score\u001b[0;34m(binary_metric, y_true, y_score, average, sample_weight)\u001b[0m\n\u001b[1;32m    118\u001b[0m         \u001b[0my_score_c\u001b[0m \u001b[0;34m=\u001b[0m \u001b[0my_score\u001b[0m\u001b[0;34m.\u001b[0m\u001b[0mtake\u001b[0m\u001b[0;34m(\u001b[0m\u001b[0;34m[\u001b[0m\u001b[0mc\u001b[0m\u001b[0;34m]\u001b[0m\u001b[0;34m,\u001b[0m \u001b[0maxis\u001b[0m\u001b[0;34m=\u001b[0m\u001b[0mnot_average_axis\u001b[0m\u001b[0;34m)\u001b[0m\u001b[0;34m.\u001b[0m\u001b[0mravel\u001b[0m\u001b[0;34m(\u001b[0m\u001b[0;34m)\u001b[0m\u001b[0;34m\u001b[0m\u001b[0;34m\u001b[0m\u001b[0m\n\u001b[1;32m    119\u001b[0m         score[c] = binary_metric(y_true_c, y_score_c,\n\u001b[0;32m--> 120\u001b[0;31m                                  sample_weight=score_weight)\n\u001b[0m\u001b[1;32m    121\u001b[0m \u001b[0;34m\u001b[0m\u001b[0m\n\u001b[1;32m    122\u001b[0m     \u001b[0;31m# Average the results\u001b[0m\u001b[0;34m\u001b[0m\u001b[0;34m\u001b[0m\u001b[0;34m\u001b[0m\u001b[0m\n",
            "\u001b[0;32m/usr/local/lib/python3.6/dist-packages/sklearn/metrics/_ranking.py\u001b[0m in \u001b[0;36m_binary_roc_auc_score\u001b[0;34m(y_true, y_score, sample_weight, max_fpr)\u001b[0m\n\u001b[1;32m    219\u001b[0m     \u001b[0;34m\"\"\"Binary roc auc score\"\"\"\u001b[0m\u001b[0;34m\u001b[0m\u001b[0;34m\u001b[0m\u001b[0m\n\u001b[1;32m    220\u001b[0m     \u001b[0;32mif\u001b[0m \u001b[0mlen\u001b[0m\u001b[0;34m(\u001b[0m\u001b[0mnp\u001b[0m\u001b[0;34m.\u001b[0m\u001b[0munique\u001b[0m\u001b[0;34m(\u001b[0m\u001b[0my_true\u001b[0m\u001b[0;34m)\u001b[0m\u001b[0;34m)\u001b[0m \u001b[0;34m!=\u001b[0m \u001b[0;36m2\u001b[0m\u001b[0;34m:\u001b[0m\u001b[0;34m\u001b[0m\u001b[0;34m\u001b[0m\u001b[0m\n\u001b[0;32m--> 221\u001b[0;31m         raise ValueError(\"Only one class present in y_true. ROC AUC score \"\n\u001b[0m\u001b[1;32m    222\u001b[0m                          \"is not defined in that case.\")\n\u001b[1;32m    223\u001b[0m \u001b[0;34m\u001b[0m\u001b[0m\n",
            "\u001b[0;31mValueError\u001b[0m: Only one class present in y_true. ROC AUC score is not defined in that case."
          ]
        }
      ]
    },
    {
      "cell_type": "code",
      "metadata": {
        "colab": {
          "base_uri": "https://localhost:8080/"
        },
        "id": "6KCmwKzjoNC0",
        "outputId": "fc476c4a-c4f2-43e5-c2e0-7403c8a6a254"
      },
      "source": [
        "print_score(knn, X_train, X_test, y_train, y_test, train=True) #THIS is modified\r\n",
        "print_score(knn, X_train, X_test, y_train, y_test, train=False)"
      ],
      "execution_count": null,
      "outputs": [
        {
          "output_type": "stream",
          "text": [
            "Train Result:\n",
            "\n",
            "accuracy score: 0.8307\n",
            "\n",
            "Classification Report: \n",
            "               precision    recall  f1-score   support\n",
            "\n",
            "         0.0       0.80      0.81      0.81     12424\n",
            "         1.0       0.85      0.85      0.85     16175\n",
            "\n",
            "    accuracy                           0.83     28599\n",
            "   macro avg       0.83      0.83      0.83     28599\n",
            "weighted avg       0.83      0.83      0.83     28599\n",
            "\n",
            "\n",
            "Confusion Matrix: \n",
            " [[10064  2360]\n",
            " [ 2483 13692]]\n",
            "\n",
            "ROC AUC: 0.8283\n",
            "\n",
            "Average Accuracy: \t 0.7464\n",
            "Accuracy SD: \t\t 0.0091\n",
            "Test Result:\n",
            "\n",
            "accuracy score: 0.7501\n",
            "\n",
            "Classification Report: \n",
            "               precision    recall  f1-score   support\n",
            "\n",
            "         0.0       0.71      0.72      0.71      3089\n",
            "         1.0       0.78      0.77      0.78      4061\n",
            "\n",
            "    accuracy                           0.75      7150\n",
            "   macro avg       0.75      0.75      0.75      7150\n",
            "weighted avg       0.75      0.75      0.75      7150\n",
            "\n",
            "\n",
            "Confusion Matrix: \n",
            " [[2226  863]\n",
            " [ 924 3137]]\n",
            "\n",
            "ROC AUC: 0.7465\n",
            "\n"
          ],
          "name": "stdout"
        }
      ]
    },
    {
      "cell_type": "code",
      "metadata": {
        "colab": {
          "base_uri": "https://localhost:8080/"
        },
        "id": "oRl_J6NuI3cr",
        "outputId": "f16f7558-dd58-4bea-b155-5d9a6228474f"
      },
      "source": [
        "#DT\r\n",
        "from sklearn.tree import DecisionTreeClassifier\r\n",
        "dt = DecisionTreeClassifier()\r\n",
        "dt.fit(X_train,y_train)"
      ],
      "execution_count": null,
      "outputs": [
        {
          "output_type": "execute_result",
          "data": {
            "text/plain": [
              "DecisionTreeClassifier(ccp_alpha=0.0, class_weight=None, criterion='gini',\n",
              "                       max_depth=None, max_features=None, max_leaf_nodes=None,\n",
              "                       min_impurity_decrease=0.0, min_impurity_split=None,\n",
              "                       min_samples_leaf=1, min_samples_split=2,\n",
              "                       min_weight_fraction_leaf=0.0, presort='deprecated',\n",
              "                       random_state=None, splitter='best')"
            ]
          },
          "metadata": {
            "tags": []
          },
          "execution_count": 72
        }
      ]
    },
    {
      "cell_type": "code",
      "metadata": {
        "colab": {
          "base_uri": "https://localhost:8080/"
        },
        "id": "ITRFkGVHJCgK",
        "outputId": "93ae9aee-ba1e-4a93-cc96-68479a167ae0"
      },
      "source": [
        "print_score(dt, X_train, X_test, y_train, y_test, train=True)\r\n",
        "print_score(dt, X_train, X_test, y_train, y_test, train=False)"
      ],
      "execution_count": null,
      "outputs": [
        {
          "output_type": "stream",
          "text": [
            "Train Result:\n",
            "\n",
            "accuracy score: 0.9999\n",
            "\n",
            "Classification Report: \n",
            "               precision    recall  f1-score   support\n",
            "\n",
            "         0.0       1.00      1.00      1.00     12424\n",
            "         1.0       1.00      1.00      1.00     16175\n",
            "\n",
            "    accuracy                           1.00     28599\n",
            "   macro avg       1.00      1.00      1.00     28599\n",
            "weighted avg       1.00      1.00      1.00     28599\n",
            "\n",
            "\n",
            "Confusion Matrix: \n",
            " [[12424     0]\n",
            " [    2 16173]]\n",
            "\n",
            "ROC AUC: 0.9999\n",
            "\n",
            "Average Accuracy: \t 0.7353\n",
            "Accuracy SD: \t\t 0.0088\n",
            "Test Result:\n",
            "\n",
            "accuracy score: 0.7330\n",
            "\n",
            "Classification Report: \n",
            "               precision    recall  f1-score   support\n",
            "\n",
            "         0.0       0.69      0.70      0.69      3089\n",
            "         1.0       0.77      0.76      0.76      4061\n",
            "\n",
            "    accuracy                           0.73      7150\n",
            "   macro avg       0.73      0.73      0.73      7150\n",
            "weighted avg       0.73      0.73      0.73      7150\n",
            "\n",
            "\n",
            "Confusion Matrix: \n",
            " [[2174  915]\n",
            " [ 994 3067]]\n",
            "\n",
            "ROC AUC: 0.7295\n",
            "\n"
          ],
          "name": "stdout"
        }
      ]
    },
    {
      "cell_type": "code",
      "metadata": {
        "colab": {
          "base_uri": "https://localhost:8080/"
        },
        "id": "iS9MIu608xCJ",
        "outputId": "250e7a62-8bd9-4ac6-d06f-871e0abfb683"
      },
      "source": [
        "from sklearn.linear_model import SGDClassifier #sgd classifier\r\n",
        "from sklearn.preprocessing import StandardScaler\r\n",
        "from sklearn.pipeline import make_pipeline\r\n",
        "sgdc = make_pipeline(StandardScaler(),SGDClassifier(max_iter=1000, tol=1e-3))\r\n",
        "sgdc.fit(X_train, y_train)"
      ],
      "execution_count": null,
      "outputs": [
        {
          "output_type": "execute_result",
          "data": {
            "text/plain": [
              "Pipeline(memory=None,\n",
              "         steps=[('standardscaler',\n",
              "                 StandardScaler(copy=True, with_mean=True, with_std=True)),\n",
              "                ('sgdclassifier',\n",
              "                 SGDClassifier(alpha=0.0001, average=False, class_weight=None,\n",
              "                               early_stopping=False, epsilon=0.1, eta0=0.0,\n",
              "                               fit_intercept=True, l1_ratio=0.15,\n",
              "                               learning_rate='optimal', loss='hinge',\n",
              "                               max_iter=1000, n_iter_no_change=5, n_jobs=None,\n",
              "                               penalty='l2', power_t=0.5, random_state=None,\n",
              "                               shuffle=True, tol=0.001, validation_fraction=0.1,\n",
              "                               verbose=0, warm_start=False))],\n",
              "         verbose=False)"
            ]
          },
          "metadata": {
            "tags": []
          },
          "execution_count": 62
        }
      ]
    },
    {
      "cell_type": "code",
      "metadata": {
        "colab": {
          "base_uri": "https://localhost:8080/"
        },
        "id": "f1a3_L2E-NLf",
        "outputId": "675fd859-16b7-4d25-b429-deb070a63c70"
      },
      "source": [
        "print_score(sgdc, X_train, X_test, y_train, y_test, train=True)\r\n",
        "print_score(sgdc, X_train, X_test, y_train, y_test, train=False)"
      ],
      "execution_count": null,
      "outputs": [
        {
          "output_type": "stream",
          "text": [
            "Train Result:\n",
            "\n",
            "accuracy score: 0.7813\n",
            "\n",
            "Classification Report: \n",
            "               precision    recall  f1-score   support\n",
            "\n",
            "         0.0       0.75      0.75      0.75     12424\n",
            "         1.0       0.81      0.81      0.81     16175\n",
            "\n",
            "    accuracy                           0.78     28599\n",
            "   macro avg       0.78      0.78      0.78     28599\n",
            "weighted avg       0.78      0.78      0.78     28599\n",
            "\n",
            "\n",
            "Confusion Matrix: \n",
            " [[ 9267  3157]\n",
            " [ 3097 13078]]\n",
            "\n",
            "ROC AUC: 0.7772\n",
            "\n",
            "Average Accuracy: \t 0.7782\n",
            "Accuracy SD: \t\t 0.0067\n",
            "Test Result:\n",
            "\n",
            "accuracy score: 0.7792\n",
            "\n",
            "Classification Report: \n",
            "               precision    recall  f1-score   support\n",
            "\n",
            "         0.0       0.74      0.74      0.74      3089\n",
            "         1.0       0.81      0.81      0.81      4061\n",
            "\n",
            "    accuracy                           0.78      7150\n",
            "   macro avg       0.78      0.77      0.77      7150\n",
            "weighted avg       0.78      0.78      0.78      7150\n",
            "\n",
            "\n",
            "Confusion Matrix: \n",
            " [[2299  790]\n",
            " [ 789 3272]]\n",
            "\n",
            "ROC AUC: 0.7750\n",
            "\n"
          ],
          "name": "stdout"
        }
      ]
    },
    {
      "cell_type": "code",
      "metadata": {
        "colab": {
          "base_uri": "https://localhost:8080/"
        },
        "id": "2m0ruQ2sift5",
        "outputId": "08a30f3b-8d88-4f46-a8a6-80ce080f9f54"
      },
      "source": [
        "#rfc\r\n",
        "from sklearn.ensemble import RandomForestClassifier\r\n",
        "rfc = RandomForestClassifier(n_estimators=50,n_jobs=-1);\r\n",
        "rfc.fit(X_train, y_train)"
      ],
      "execution_count": null,
      "outputs": [
        {
          "output_type": "execute_result",
          "data": {
            "text/plain": [
              "RandomForestClassifier(bootstrap=True, ccp_alpha=0.0, class_weight=None,\n",
              "                       criterion='gini', max_depth=None, max_features='auto',\n",
              "                       max_leaf_nodes=None, max_samples=None,\n",
              "                       min_impurity_decrease=0.0, min_impurity_split=None,\n",
              "                       min_samples_leaf=1, min_samples_split=2,\n",
              "                       min_weight_fraction_leaf=0.0, n_estimators=50, n_jobs=-1,\n",
              "                       oob_score=False, random_state=None, verbose=0,\n",
              "                       warm_start=False)"
            ]
          },
          "metadata": {
            "tags": []
          },
          "execution_count": 74
        }
      ]
    },
    {
      "cell_type": "code",
      "metadata": {
        "colab": {
          "base_uri": "https://localhost:8080/"
        },
        "id": "DiVOlSnhmAgR",
        "outputId": "57c61eab-f4ea-4d82-9f70-cbfa572e4bc0"
      },
      "source": [
        "print_score(rfc, X_train, X_test, y_train, y_test, train=True)\r\n",
        "print_score(rfc, X_train, X_test, y_train, y_test, train=False)"
      ],
      "execution_count": null,
      "outputs": [
        {
          "output_type": "stream",
          "text": [
            "Train Result:\n",
            "\n",
            "accuracy score: 0.9998\n",
            "\n",
            "Classification Report: \n",
            "               precision    recall  f1-score   support\n",
            "\n",
            "         0.0       1.00      1.00      1.00     12424\n",
            "         1.0       1.00      1.00      1.00     16175\n",
            "\n",
            "    accuracy                           1.00     28599\n",
            "   macro avg       1.00      1.00      1.00     28599\n",
            "weighted avg       1.00      1.00      1.00     28599\n",
            "\n",
            "\n",
            "Confusion Matrix: \n",
            " [[12423     1]\n",
            " [    4 16171]]\n",
            "\n",
            "ROC AUC: 0.9998\n",
            "\n",
            "Average Accuracy: \t 0.7993\n",
            "Accuracy SD: \t\t 0.0056\n",
            "Test Result:\n",
            "\n",
            "accuracy score: 0.7994\n",
            "\n",
            "Classification Report: \n",
            "               precision    recall  f1-score   support\n",
            "\n",
            "         0.0       0.79      0.73      0.76      3089\n",
            "         1.0       0.80      0.86      0.83      4061\n",
            "\n",
            "    accuracy                           0.80      7150\n",
            "   macro avg       0.80      0.79      0.79      7150\n",
            "weighted avg       0.80      0.80      0.80      7150\n",
            "\n",
            "\n",
            "Confusion Matrix: \n",
            " [[2240  849]\n",
            " [ 585 3476]]\n",
            "\n",
            "ROC AUC: 0.7906\n",
            "\n"
          ],
          "name": "stdout"
        }
      ]
    },
    {
      "cell_type": "code",
      "metadata": {
        "colab": {
          "base_uri": "https://localhost:8080/"
        },
        "id": "qte4gfPTCyLF",
        "outputId": "bb4d7035-53ff-4666-c6e4-77313b363013"
      },
      "source": [
        "#logistic regression\r\n",
        "from sklearn.linear_model import LogisticRegression\r\n",
        "lr = LogisticRegression(random_state=1, max_iter=500)\r\n",
        "lr.fit(X_train, y_train) "
      ],
      "execution_count": null,
      "outputs": [
        {
          "output_type": "execute_result",
          "data": {
            "text/plain": [
              "LogisticRegression(C=1.0, class_weight=None, dual=False, fit_intercept=True,\n",
              "                   intercept_scaling=1, l1_ratio=None, max_iter=500,\n",
              "                   multi_class='auto', n_jobs=None, penalty='l2',\n",
              "                   random_state=1, solver='lbfgs', tol=0.0001, verbose=0,\n",
              "                   warm_start=False)"
            ]
          },
          "metadata": {
            "tags": []
          },
          "execution_count": 76
        }
      ]
    },
    {
      "cell_type": "code",
      "metadata": {
        "colab": {
          "base_uri": "https://localhost:8080/"
        },
        "id": "l3picnXzC-86",
        "outputId": "859fd014-4ab5-4193-8b03-7ca197ab6e12"
      },
      "source": [
        "print_score(lr, X_train, X_test, y_train, y_test, train=True)\r\n",
        "print_score(lr, X_train, X_test, y_train, y_test, train=False)"
      ],
      "execution_count": null,
      "outputs": [
        {
          "output_type": "stream",
          "text": [
            "Train Result:\n",
            "\n",
            "accuracy score: 0.7833\n",
            "\n",
            "Classification Report: \n",
            "               precision    recall  f1-score   support\n",
            "\n",
            "         0.0       0.75      0.76      0.75     12424\n",
            "         1.0       0.81      0.80      0.81     16175\n",
            "\n",
            "    accuracy                           0.78     28599\n",
            "   macro avg       0.78      0.78      0.78     28599\n",
            "weighted avg       0.78      0.78      0.78     28599\n",
            "\n",
            "\n",
            "Confusion Matrix: \n",
            " [[ 9427  2997]\n",
            " [ 3200 12975]]\n",
            "\n",
            "ROC AUC: 0.7805\n",
            "\n",
            "Average Accuracy: \t 0.7828\n",
            "Accuracy SD: \t\t 0.0063\n",
            "Test Result:\n",
            "\n",
            "accuracy score: 0.7787\n",
            "\n",
            "Classification Report: \n",
            "               precision    recall  f1-score   support\n",
            "\n",
            "         0.0       0.74      0.75      0.75      3089\n",
            "         1.0       0.81      0.80      0.80      4061\n",
            "\n",
            "    accuracy                           0.78      7150\n",
            "   macro avg       0.77      0.78      0.78      7150\n",
            "weighted avg       0.78      0.78      0.78      7150\n",
            "\n",
            "\n",
            "Confusion Matrix: \n",
            " [[2324  765]\n",
            " [ 817 3244]]\n",
            "\n",
            "ROC AUC: 0.7756\n",
            "\n"
          ],
          "name": "stdout"
        }
      ]
    },
    {
      "cell_type": "code",
      "metadata": {
        "colab": {
          "base_uri": "https://localhost:8080/"
        },
        "id": "x_B1Bqvlhw9j",
        "outputId": "1d23e5c3-6aba-4201-e6af-18522769b4f0"
      },
      "source": [
        "#ensemble\r\n",
        "#bagging w DT\r\n",
        "from sklearn.ensemble import BaggingClassifier\r\n",
        "bag_clf = BaggingClassifier(base_estimator=dt, n_estimators=100,bootstrap=True, oob_score=True,n_jobs=-1, random_state=42)\r\n",
        "bag_clf.fit(X_train, y_train) #implementing bagging"
      ],
      "execution_count": null,
      "outputs": [
        {
          "output_type": "execute_result",
          "data": {
            "text/plain": [
              "BaggingClassifier(base_estimator=DecisionTreeClassifier(ccp_alpha=0.0,\n",
              "                                                        class_weight=None,\n",
              "                                                        criterion='gini',\n",
              "                                                        max_depth=None,\n",
              "                                                        max_features=None,\n",
              "                                                        max_leaf_nodes=None,\n",
              "                                                        min_impurity_decrease=0.0,\n",
              "                                                        min_impurity_split=None,\n",
              "                                                        min_samples_leaf=1,\n",
              "                                                        min_samples_split=2,\n",
              "                                                        min_weight_fraction_leaf=0.0,\n",
              "                                                        presort='deprecated',\n",
              "                                                        random_state=None,\n",
              "                                                        splitter='best'),\n",
              "                  bootstrap=True, bootstrap_features=False, max_features=1.0,\n",
              "                  max_samples=1.0, n_estimators=100, n_jobs=-1, oob_score=True,\n",
              "                  random_state=42, verbose=0, warm_start=False)"
            ]
          },
          "metadata": {
            "tags": []
          },
          "execution_count": 78
        }
      ]
    },
    {
      "cell_type": "code",
      "metadata": {
        "colab": {
          "base_uri": "https://localhost:8080/"
        },
        "id": "3rcXMwHdoZ8K",
        "outputId": "94db61e0-fe59-4bd8-eff3-6b92ffca2bfb"
      },
      "source": [
        "print_score(bag_clf, X_train, X_test, y_train, y_test, train=True)\r\n",
        "print_score(bag_clf, X_train, X_test, y_train, y_test, train=False)"
      ],
      "execution_count": null,
      "outputs": [
        {
          "output_type": "stream",
          "text": [
            "Train Result:\n",
            "\n",
            "accuracy score: 0.9999\n",
            "\n",
            "Classification Report: \n",
            "               precision    recall  f1-score   support\n",
            "\n",
            "         0.0       1.00      1.00      1.00     12424\n",
            "         1.0       1.00      1.00      1.00     16175\n",
            "\n",
            "    accuracy                           1.00     28599\n",
            "   macro avg       1.00      1.00      1.00     28599\n",
            "weighted avg       1.00      1.00      1.00     28599\n",
            "\n",
            "\n",
            "Confusion Matrix: \n",
            " [[12424     0]\n",
            " [    2 16173]]\n",
            "\n",
            "ROC AUC: 0.9999\n",
            "\n",
            "Average Accuracy: \t 0.8007\n",
            "Accuracy SD: \t\t 0.0038\n",
            "Test Result:\n",
            "\n",
            "accuracy score: 0.8024\n",
            "\n",
            "Classification Report: \n",
            "               precision    recall  f1-score   support\n",
            "\n",
            "         0.0       0.79      0.73      0.76      3089\n",
            "         1.0       0.81      0.85      0.83      4061\n",
            "\n",
            "    accuracy                           0.80      7150\n",
            "   macro avg       0.80      0.79      0.80      7150\n",
            "weighted avg       0.80      0.80      0.80      7150\n",
            "\n",
            "\n",
            "Confusion Matrix: \n",
            " [[2267  822]\n",
            " [ 591 3470]]\n",
            "\n",
            "ROC AUC: 0.7942\n",
            "\n"
          ],
          "name": "stdout"
        }
      ]
    },
    {
      "cell_type": "code",
      "metadata": {
        "colab": {
          "base_uri": "https://localhost:8080/"
        },
        "id": "ThQTt74U6JCK",
        "outputId": "a9042f26-34f1-419e-e7ca-d6f18b69c0c6"
      },
      "source": [
        "#adaboost\r\n",
        "from sklearn.ensemble import AdaBoostClassifier\r\n",
        "ada = AdaBoostClassifier(n_estimators=30,learning_rate=1)\r\n",
        "ada.fit(X_train, y_train)\r\n"
      ],
      "execution_count": null,
      "outputs": [
        {
          "output_type": "execute_result",
          "data": {
            "text/plain": [
              "AdaBoostClassifier(algorithm='SAMME.R', base_estimator=None, learning_rate=1,\n",
              "                   n_estimators=30, random_state=None)"
            ]
          },
          "metadata": {
            "tags": []
          },
          "execution_count": 80
        }
      ]
    },
    {
      "cell_type": "code",
      "metadata": {
        "colab": {
          "base_uri": "https://localhost:8080/"
        },
        "id": "ZNUa8Q606OPb",
        "outputId": "73799059-786a-4f85-bfce-5cdcab25babb"
      },
      "source": [
        "print_score(ada, X_train, X_test, y_train, y_test, train=True)\r\n",
        "print_score(ada, X_train, X_test, y_train, y_test, train=False)"
      ],
      "execution_count": null,
      "outputs": [
        {
          "output_type": "stream",
          "text": [
            "Train Result:\n",
            "\n",
            "accuracy score: 0.7941\n",
            "\n",
            "Classification Report: \n",
            "               precision    recall  f1-score   support\n",
            "\n",
            "         0.0       0.82      0.68      0.74     12424\n",
            "         1.0       0.78      0.88      0.83     16175\n",
            "\n",
            "    accuracy                           0.79     28599\n",
            "   macro avg       0.80      0.78      0.78     28599\n",
            "weighted avg       0.80      0.79      0.79     28599\n",
            "\n",
            "\n",
            "Confusion Matrix: \n",
            " [[ 8400  4024]\n",
            " [ 1864 14311]]\n",
            "\n",
            "ROC AUC: 0.7804\n",
            "\n",
            "Average Accuracy: \t 0.7936\n",
            "Accuracy SD: \t\t 0.0059\n",
            "Test Result:\n",
            "\n",
            "accuracy score: 0.7924\n",
            "\n",
            "Classification Report: \n",
            "               precision    recall  f1-score   support\n",
            "\n",
            "         0.0       0.81      0.67      0.74      3089\n",
            "         1.0       0.78      0.88      0.83      4061\n",
            "\n",
            "    accuracy                           0.79      7150\n",
            "   macro avg       0.80      0.78      0.78      7150\n",
            "weighted avg       0.79      0.79      0.79      7150\n",
            "\n",
            "\n",
            "Confusion Matrix: \n",
            " [[2082 1007]\n",
            " [ 477 3584]]\n",
            "\n",
            "ROC AUC: 0.7783\n",
            "\n"
          ],
          "name": "stdout"
        }
      ]
    },
    {
      "cell_type": "code",
      "metadata": {
        "colab": {
          "base_uri": "https://localhost:8080/"
        },
        "id": "uC4zMgPRWlFc",
        "outputId": "34acf58f-52af-40e2-ec0d-4605adcf6d88"
      },
      "source": [
        "from sklearn.ensemble import AdaBoostClassifier\r\n",
        "bclf = AdaBoostClassifier(base_estimator=rfc,n_estimators=rfc.n_estimators) #using random forest obj as base classifier\r\n",
        "bclf.fit(X_train, y_train)\r\n"
      ],
      "execution_count": null,
      "outputs": [
        {
          "output_type": "execute_result",
          "data": {
            "text/plain": [
              "AdaBoostClassifier(algorithm='SAMME.R',\n",
              "                   base_estimator=RandomForestClassifier(bootstrap=True,\n",
              "                                                         ccp_alpha=0.0,\n",
              "                                                         class_weight=None,\n",
              "                                                         criterion='gini',\n",
              "                                                         max_depth=None,\n",
              "                                                         max_features='auto',\n",
              "                                                         max_leaf_nodes=None,\n",
              "                                                         max_samples=None,\n",
              "                                                         min_impurity_decrease=0.0,\n",
              "                                                         min_impurity_split=None,\n",
              "                                                         min_samples_leaf=1,\n",
              "                                                         min_samples_split=2,\n",
              "                                                         min_weight_fraction_leaf=0.0,\n",
              "                                                         n_estimators=50,\n",
              "                                                         n_jobs=-1,\n",
              "                                                         oob_score=False,\n",
              "                                                         random_state=None,\n",
              "                                                         verbose=0,\n",
              "                                                         warm_start=False),\n",
              "                   learning_rate=1.0, n_estimators=50, random_state=None)"
            ]
          },
          "metadata": {
            "tags": []
          },
          "execution_count": 82
        }
      ]
    },
    {
      "cell_type": "code",
      "metadata": {
        "colab": {
          "base_uri": "https://localhost:8080/"
        },
        "id": "kxRMN9J7WwuJ",
        "outputId": "a7de9f61-f4da-4223-8c2a-d5c17d879bdc"
      },
      "source": [
        "print_score(bclf, X_train, X_test, y_train, y_test, train=True)\r\n",
        "print_score(bclf, X_train, X_test, y_train, y_test, train=False)"
      ],
      "execution_count": null,
      "outputs": [
        {
          "output_type": "stream",
          "text": [
            "Train Result:\n",
            "\n",
            "accuracy score: 0.9999\n",
            "\n",
            "Classification Report: \n",
            "               precision    recall  f1-score   support\n",
            "\n",
            "         0.0       1.00      1.00      1.00     12424\n",
            "         1.0       1.00      1.00      1.00     16175\n",
            "\n",
            "    accuracy                           1.00     28599\n",
            "   macro avg       1.00      1.00      1.00     28599\n",
            "weighted avg       1.00      1.00      1.00     28599\n",
            "\n",
            "\n",
            "Confusion Matrix: \n",
            " [[12423     1]\n",
            " [    1 16174]]\n",
            "\n",
            "ROC AUC: 0.9999\n",
            "\n",
            "Average Accuracy: \t 0.7985\n",
            "Accuracy SD: \t\t 0.0059\n",
            "Test Result:\n",
            "\n",
            "accuracy score: 0.7989\n",
            "\n",
            "Classification Report: \n",
            "               precision    recall  f1-score   support\n",
            "\n",
            "         0.0       0.80      0.72      0.76      3089\n",
            "         1.0       0.80      0.86      0.83      4061\n",
            "\n",
            "    accuracy                           0.80      7150\n",
            "   macro avg       0.80      0.79      0.79      7150\n",
            "weighted avg       0.80      0.80      0.80      7150\n",
            "\n",
            "\n",
            "Confusion Matrix: \n",
            " [[2219  870]\n",
            " [ 568 3493]]\n",
            "\n",
            "ROC AUC: 0.7892\n",
            "\n"
          ],
          "name": "stdout"
        }
      ]
    },
    {
      "cell_type": "code",
      "metadata": {
        "colab": {
          "base_uri": "https://localhost:8080/"
        },
        "id": "mOAnYtGPL412",
        "outputId": "5a828808-0627-429d-a3e3-916c1148d310"
      },
      "source": [
        "from sklearn.ensemble import GradientBoostingClassifier\r\n",
        "clf = GradientBoostingClassifier()\r\n",
        "clf.fit(X_train, y_train)"
      ],
      "execution_count": null,
      "outputs": [
        {
          "output_type": "execute_result",
          "data": {
            "text/plain": [
              "GradientBoostingClassifier(ccp_alpha=0.0, criterion='friedman_mse', init=None,\n",
              "                           learning_rate=0.1, loss='deviance', max_depth=3,\n",
              "                           max_features=None, max_leaf_nodes=None,\n",
              "                           min_impurity_decrease=0.0, min_impurity_split=None,\n",
              "                           min_samples_leaf=1, min_samples_split=2,\n",
              "                           min_weight_fraction_leaf=0.0, n_estimators=100,\n",
              "                           n_iter_no_change=None, presort='deprecated',\n",
              "                           random_state=None, subsample=1.0, tol=0.0001,\n",
              "                           validation_fraction=0.1, verbose=0,\n",
              "                           warm_start=False)"
            ]
          },
          "metadata": {
            "tags": []
          },
          "execution_count": 84
        }
      ]
    },
    {
      "cell_type": "code",
      "metadata": {
        "colab": {
          "base_uri": "https://localhost:8080/"
        },
        "id": "WN6Gv7GkL7PG",
        "outputId": "d04404bd-cc6f-4e98-b201-b2705006d8e5"
      },
      "source": [
        "print_score(clf, X_train, X_test, y_train, y_test, train=True)\r\n",
        "print_score(clf, X_train, X_test, y_train, y_test, train=False)"
      ],
      "execution_count": null,
      "outputs": [
        {
          "output_type": "stream",
          "text": [
            "Train Result:\n",
            "\n",
            "accuracy score: 0.8103\n",
            "\n",
            "Classification Report: \n",
            "               precision    recall  f1-score   support\n",
            "\n",
            "         0.0       0.81      0.73      0.77     12424\n",
            "         1.0       0.81      0.87      0.84     16175\n",
            "\n",
            "    accuracy                           0.81     28599\n",
            "   macro avg       0.81      0.80      0.80     28599\n",
            "weighted avg       0.81      0.81      0.81     28599\n",
            "\n",
            "\n",
            "Confusion Matrix: \n",
            " [[ 9064  3360]\n",
            " [ 2066 14109]]\n",
            "\n",
            "ROC AUC: 0.8009\n",
            "\n",
            "Average Accuracy: \t 0.8048\n",
            "Accuracy SD: \t\t 0.0048\n",
            "Test Result:\n",
            "\n",
            "accuracy score: 0.8046\n",
            "\n",
            "Classification Report: \n",
            "               precision    recall  f1-score   support\n",
            "\n",
            "         0.0       0.80      0.73      0.76      3089\n",
            "         1.0       0.81      0.86      0.83      4061\n",
            "\n",
            "    accuracy                           0.80      7150\n",
            "   macro avg       0.80      0.80      0.80      7150\n",
            "weighted avg       0.80      0.80      0.80      7150\n",
            "\n",
            "\n",
            "Confusion Matrix: \n",
            " [[2241  848]\n",
            " [ 549 3512]]\n",
            "\n",
            "ROC AUC: 0.7951\n",
            "\n"
          ],
          "name": "stdout"
        }
      ]
    },
    {
      "cell_type": "code",
      "metadata": {
        "colab": {
          "base_uri": "https://localhost:8080/"
        },
        "id": "IYZSSEtDty4Q",
        "outputId": "5c3e00e1-e57c-4b99-84f1-02901336d8b0"
      },
      "source": [
        "#xgboost\r\n",
        "import xgboost as xgb\r\n",
        "xg_reg = xgb.XGBClassifier()\r\n",
        "xg_reg.fit(X_train,y_train)"
      ],
      "execution_count": null,
      "outputs": [
        {
          "output_type": "execute_result",
          "data": {
            "text/plain": [
              "XGBClassifier(base_score=0.5, booster='gbtree', colsample_bylevel=1,\n",
              "              colsample_bynode=1, colsample_bytree=1, gamma=0,\n",
              "              learning_rate=0.1, max_delta_step=0, max_depth=3,\n",
              "              min_child_weight=1, missing=None, n_estimators=100, n_jobs=1,\n",
              "              nthread=None, objective='binary:logistic', random_state=0,\n",
              "              reg_alpha=0, reg_lambda=1, scale_pos_weight=1, seed=None,\n",
              "              silent=None, subsample=1, verbosity=1)"
            ]
          },
          "metadata": {
            "tags": []
          },
          "execution_count": 86
        }
      ]
    },
    {
      "cell_type": "code",
      "metadata": {
        "colab": {
          "base_uri": "https://localhost:8080/"
        },
        "id": "Cc_CpHDvt3cz",
        "outputId": "2dac486a-4ebb-40ad-96f1-b26e2ff60497"
      },
      "source": [
        "print_score(xg_reg, X_train, X_test, y_train, y_test, train=True)\r\n",
        "print_score(xg_reg, X_train, X_test, y_train, y_test, train=False)"
      ],
      "execution_count": null,
      "outputs": [
        {
          "output_type": "stream",
          "text": [
            "Train Result:\n",
            "\n",
            "accuracy score: 0.8081\n",
            "\n",
            "Classification Report: \n",
            "               precision    recall  f1-score   support\n",
            "\n",
            "         0.0       0.81      0.72      0.77     12424\n",
            "         1.0       0.80      0.87      0.84     16175\n",
            "\n",
            "    accuracy                           0.81     28599\n",
            "   macro avg       0.81      0.80      0.80     28599\n",
            "weighted avg       0.81      0.81      0.81     28599\n",
            "\n",
            "\n",
            "Confusion Matrix: \n",
            " [[ 9007  3417]\n",
            " [ 2071 14104]]\n",
            "\n",
            "ROC AUC: 0.7985\n",
            "\n",
            "Average Accuracy: \t 0.8038\n",
            "Accuracy SD: \t\t 0.0051\n",
            "Test Result:\n",
            "\n",
            "accuracy score: 0.8048\n",
            "\n",
            "Classification Report: \n",
            "               precision    recall  f1-score   support\n",
            "\n",
            "         0.0       0.81      0.72      0.76      3089\n",
            "         1.0       0.80      0.87      0.83      4061\n",
            "\n",
            "    accuracy                           0.80      7150\n",
            "   macro avg       0.80      0.79      0.80      7150\n",
            "weighted avg       0.80      0.80      0.80      7150\n",
            "\n",
            "\n",
            "Confusion Matrix: \n",
            " [[2230  859]\n",
            " [ 537 3524]]\n",
            "\n",
            "ROC AUC: 0.7948\n",
            "\n"
          ],
          "name": "stdout"
        }
      ]
    },
    {
      "cell_type": "code",
      "metadata": {
        "id": "j7f86YcH3_8z"
      },
      "source": [
        "#stacking\r\n",
        "#meta\r\n",
        "train_pred1=pd.DataFrame(dt.predict(X_train));#dt\r\n",
        "test_pred1=pd.DataFrame(dt.predict(X_test));"
      ],
      "execution_count": null,
      "outputs": []
    },
    {
      "cell_type": "code",
      "metadata": {
        "id": "YYz4cfQo4Ojg"
      },
      "source": [
        "#rfc\r\n",
        "train_pred2=pd.DataFrame(rfc.predict(X_train));\r\n",
        "test_pred2=pd.DataFrame(rfc.predict(X_test));"
      ],
      "execution_count": null,
      "outputs": []
    },
    {
      "cell_type": "code",
      "metadata": {
        "colab": {
          "base_uri": "https://localhost:8080/"
        },
        "id": "iBXbckrV4SY5",
        "outputId": "81a55dc0-af54-47ee-8c97-1b52f1fe2f40"
      },
      "source": [
        "st = pd.concat([train_pred1, train_pred2], axis=1)\r\n",
        "st_test = pd.concat([test_pred1, test_pred2], axis=1) #using both calculated above\r\n",
        "\r\n",
        "lr.fit(st,y_train) "
      ],
      "execution_count": null,
      "outputs": [
        {
          "output_type": "execute_result",
          "data": {
            "text/plain": [
              "LogisticRegression(C=1.0, class_weight=None, dual=False, fit_intercept=True,\n",
              "                   intercept_scaling=1, l1_ratio=None, max_iter=500,\n",
              "                   multi_class='auto', n_jobs=None, penalty='l2',\n",
              "                   random_state=1, solver='lbfgs', tol=0.0001, verbose=0,\n",
              "                   warm_start=False)"
            ]
          },
          "metadata": {
            "tags": []
          },
          "execution_count": 90
        }
      ]
    },
    {
      "cell_type": "code",
      "metadata": {
        "colab": {
          "base_uri": "https://localhost:8080/"
        },
        "id": "ivyG_gKt5Xex",
        "outputId": "e4ca9702-79bf-420b-a67c-df99d2266bdb"
      },
      "source": [
        "print_score(lr, st, st_test, y_train, y_test, train=True)\r\n",
        "print_score(lr, st , st_test, y_train, y_test, train=False)"
      ],
      "execution_count": null,
      "outputs": [
        {
          "output_type": "stream",
          "text": [
            "Train Result:\n",
            "\n",
            "accuracy score: 0.9999\n",
            "\n",
            "Classification Report: \n",
            "               precision    recall  f1-score   support\n",
            "\n",
            "         0.0       1.00      1.00      1.00     12424\n",
            "         1.0       1.00      1.00      1.00     16175\n",
            "\n",
            "    accuracy                           1.00     28599\n",
            "   macro avg       1.00      1.00      1.00     28599\n",
            "weighted avg       1.00      1.00      1.00     28599\n",
            "\n",
            "\n",
            "Confusion Matrix: \n",
            " [[12424     0]\n",
            " [    2 16173]]\n",
            "\n",
            "ROC AUC: 0.9999\n",
            "\n",
            "Average Accuracy: \t 0.9999\n",
            "Accuracy SD: \t\t 0.0001\n",
            "Test Result:\n",
            "\n",
            "accuracy score: 0.7330\n",
            "\n",
            "Classification Report: \n",
            "               precision    recall  f1-score   support\n",
            "\n",
            "         0.0       0.69      0.70      0.69      3089\n",
            "         1.0       0.77      0.76      0.76      4061\n",
            "\n",
            "    accuracy                           0.73      7150\n",
            "   macro avg       0.73      0.73      0.73      7150\n",
            "weighted avg       0.73      0.73      0.73      7150\n",
            "\n",
            "\n",
            "Confusion Matrix: \n",
            " [[2174  915]\n",
            " [ 994 3067]]\n",
            "\n",
            "ROC AUC: 0.7295\n",
            "\n"
          ],
          "name": "stdout"
        }
      ]
    },
    {
      "cell_type": "code",
      "metadata": {
        "colab": {
          "base_uri": "https://localhost:8080/"
        },
        "id": "Zqj24S-p58rB",
        "outputId": "b79f003a-636e-469f-9289-ce2d56654ac1"
      },
      "source": [
        "#single with rfc, adaboost and bagging (didn't run, see output below)\r\n",
        "abc = AdaBoostClassifier(base_estimator=rfc, n_estimators=rfc.n_estimators,learning_rate=1) #ada with rfc base\r\n",
        "abc.fit(X_train, y_train)"
      ],
      "execution_count": null,
      "outputs": [
        {
          "output_type": "execute_result",
          "data": {
            "text/plain": [
              "AdaBoostClassifier(algorithm='SAMME.R',\n",
              "                   base_estimator=RandomForestClassifier(bootstrap=True,\n",
              "                                                         ccp_alpha=0.0,\n",
              "                                                         class_weight=None,\n",
              "                                                         criterion='gini',\n",
              "                                                         max_depth=None,\n",
              "                                                         max_features='auto',\n",
              "                                                         max_leaf_nodes=None,\n",
              "                                                         max_samples=None,\n",
              "                                                         min_impurity_decrease=0.0,\n",
              "                                                         min_impurity_split=None,\n",
              "                                                         min_samples_leaf=1,\n",
              "                                                         min_samples_split=2,\n",
              "                                                         min_weight_fraction_leaf=0.0,\n",
              "                                                         n_estimators=50,\n",
              "                                                         n_jobs=-1,\n",
              "                                                         oob_score=False,\n",
              "                                                         random_state=None,\n",
              "                                                         verbose=0,\n",
              "                                                         warm_start=False),\n",
              "                   learning_rate=1, n_estimators=50, random_state=None)"
            ]
          },
          "metadata": {
            "tags": []
          },
          "execution_count": 92
        }
      ]
    },
    {
      "cell_type": "code",
      "metadata": {
        "colab": {
          "base_uri": "https://localhost:8080/",
          "height": 381
        },
        "id": "5jK-r-Bh6bN4",
        "outputId": "a020e9fb-ed53-47f5-cceb-2c5d157758de"
      },
      "source": [
        "bag = BaggingClassifier(base_estimator=abc, n_estimators=100,bootstrap=True, oob_score=True,n_jobs=-1, random_state=42)\r\n",
        "bag.fit(X_train, y_train)"
      ],
      "execution_count": null,
      "outputs": [
        {
          "output_type": "error",
          "ename": "TerminatedWorkerError",
          "evalue": "ignored",
          "traceback": [
            "\u001b[0;31m---------------------------------------------------------------------------\u001b[0m",
            "\u001b[0;31mTerminatedWorkerError\u001b[0m                     Traceback (most recent call last)",
            "\u001b[0;32m<ipython-input-93-409932fc3144>\u001b[0m in \u001b[0;36m<module>\u001b[0;34m()\u001b[0m\n\u001b[1;32m      1\u001b[0m \u001b[0mbag\u001b[0m \u001b[0;34m=\u001b[0m \u001b[0mBaggingClassifier\u001b[0m\u001b[0;34m(\u001b[0m\u001b[0mbase_estimator\u001b[0m\u001b[0;34m=\u001b[0m\u001b[0mabc\u001b[0m\u001b[0;34m,\u001b[0m \u001b[0mn_estimators\u001b[0m\u001b[0;34m=\u001b[0m\u001b[0;36m100\u001b[0m\u001b[0;34m,\u001b[0m\u001b[0mbootstrap\u001b[0m\u001b[0;34m=\u001b[0m\u001b[0;32mTrue\u001b[0m\u001b[0;34m,\u001b[0m \u001b[0moob_score\u001b[0m\u001b[0;34m=\u001b[0m\u001b[0;32mTrue\u001b[0m\u001b[0;34m,\u001b[0m\u001b[0mn_jobs\u001b[0m\u001b[0;34m=\u001b[0m\u001b[0;34m-\u001b[0m\u001b[0;36m1\u001b[0m\u001b[0;34m,\u001b[0m \u001b[0mrandom_state\u001b[0m\u001b[0;34m=\u001b[0m\u001b[0;36m42\u001b[0m\u001b[0;34m)\u001b[0m\u001b[0;34m\u001b[0m\u001b[0;34m\u001b[0m\u001b[0m\n\u001b[0;32m----> 2\u001b[0;31m \u001b[0mbag\u001b[0m\u001b[0;34m.\u001b[0m\u001b[0mfit\u001b[0m\u001b[0;34m(\u001b[0m\u001b[0mX_train\u001b[0m\u001b[0;34m,\u001b[0m \u001b[0my_train\u001b[0m\u001b[0;34m)\u001b[0m\u001b[0;34m\u001b[0m\u001b[0;34m\u001b[0m\u001b[0m\n\u001b[0m",
            "\u001b[0;32m/usr/local/lib/python3.6/dist-packages/sklearn/ensemble/_bagging.py\u001b[0m in \u001b[0;36mfit\u001b[0;34m(self, X, y, sample_weight)\u001b[0m\n\u001b[1;32m    241\u001b[0m         \u001b[0mself\u001b[0m \u001b[0;34m:\u001b[0m \u001b[0mobject\u001b[0m\u001b[0;34m\u001b[0m\u001b[0;34m\u001b[0m\u001b[0m\n\u001b[1;32m    242\u001b[0m         \"\"\"\n\u001b[0;32m--> 243\u001b[0;31m         \u001b[0;32mreturn\u001b[0m \u001b[0mself\u001b[0m\u001b[0;34m.\u001b[0m\u001b[0m_fit\u001b[0m\u001b[0;34m(\u001b[0m\u001b[0mX\u001b[0m\u001b[0;34m,\u001b[0m \u001b[0my\u001b[0m\u001b[0;34m,\u001b[0m \u001b[0mself\u001b[0m\u001b[0;34m.\u001b[0m\u001b[0mmax_samples\u001b[0m\u001b[0;34m,\u001b[0m \u001b[0msample_weight\u001b[0m\u001b[0;34m=\u001b[0m\u001b[0msample_weight\u001b[0m\u001b[0;34m)\u001b[0m\u001b[0;34m\u001b[0m\u001b[0;34m\u001b[0m\u001b[0m\n\u001b[0m\u001b[1;32m    244\u001b[0m \u001b[0;34m\u001b[0m\u001b[0m\n\u001b[1;32m    245\u001b[0m     \u001b[0;32mdef\u001b[0m \u001b[0m_parallel_args\u001b[0m\u001b[0;34m(\u001b[0m\u001b[0mself\u001b[0m\u001b[0;34m)\u001b[0m\u001b[0;34m:\u001b[0m\u001b[0;34m\u001b[0m\u001b[0;34m\u001b[0m\u001b[0m\n",
            "\u001b[0;32m/usr/local/lib/python3.6/dist-packages/sklearn/ensemble/_bagging.py\u001b[0m in \u001b[0;36m_fit\u001b[0;34m(self, X, y, max_samples, max_depth, sample_weight)\u001b[0m\n\u001b[1;32m    378\u001b[0m                 \u001b[0mtotal_n_estimators\u001b[0m\u001b[0;34m,\u001b[0m\u001b[0;34m\u001b[0m\u001b[0;34m\u001b[0m\u001b[0m\n\u001b[1;32m    379\u001b[0m                 verbose=self.verbose)\n\u001b[0;32m--> 380\u001b[0;31m             for i in range(n_jobs))\n\u001b[0m\u001b[1;32m    381\u001b[0m \u001b[0;34m\u001b[0m\u001b[0m\n\u001b[1;32m    382\u001b[0m         \u001b[0;31m# Reduce\u001b[0m\u001b[0;34m\u001b[0m\u001b[0;34m\u001b[0m\u001b[0;34m\u001b[0m\u001b[0m\n",
            "\u001b[0;32m/usr/local/lib/python3.6/dist-packages/joblib/parallel.py\u001b[0m in \u001b[0;36m__call__\u001b[0;34m(self, iterable)\u001b[0m\n\u001b[1;32m   1059\u001b[0m \u001b[0;34m\u001b[0m\u001b[0m\n\u001b[1;32m   1060\u001b[0m             \u001b[0;32mwith\u001b[0m \u001b[0mself\u001b[0m\u001b[0;34m.\u001b[0m\u001b[0m_backend\u001b[0m\u001b[0;34m.\u001b[0m\u001b[0mretrieval_context\u001b[0m\u001b[0;34m(\u001b[0m\u001b[0;34m)\u001b[0m\u001b[0;34m:\u001b[0m\u001b[0;34m\u001b[0m\u001b[0;34m\u001b[0m\u001b[0m\n\u001b[0;32m-> 1061\u001b[0;31m                 \u001b[0mself\u001b[0m\u001b[0;34m.\u001b[0m\u001b[0mretrieve\u001b[0m\u001b[0;34m(\u001b[0m\u001b[0;34m)\u001b[0m\u001b[0;34m\u001b[0m\u001b[0;34m\u001b[0m\u001b[0m\n\u001b[0m\u001b[1;32m   1062\u001b[0m             \u001b[0;31m# Make sure that we get a last message telling us we are done\u001b[0m\u001b[0;34m\u001b[0m\u001b[0;34m\u001b[0m\u001b[0;34m\u001b[0m\u001b[0m\n\u001b[1;32m   1063\u001b[0m             \u001b[0melapsed_time\u001b[0m \u001b[0;34m=\u001b[0m \u001b[0mtime\u001b[0m\u001b[0;34m.\u001b[0m\u001b[0mtime\u001b[0m\u001b[0;34m(\u001b[0m\u001b[0;34m)\u001b[0m \u001b[0;34m-\u001b[0m \u001b[0mself\u001b[0m\u001b[0;34m.\u001b[0m\u001b[0m_start_time\u001b[0m\u001b[0;34m\u001b[0m\u001b[0;34m\u001b[0m\u001b[0m\n",
            "\u001b[0;32m/usr/local/lib/python3.6/dist-packages/joblib/parallel.py\u001b[0m in \u001b[0;36mretrieve\u001b[0;34m(self)\u001b[0m\n\u001b[1;32m    938\u001b[0m             \u001b[0;32mtry\u001b[0m\u001b[0;34m:\u001b[0m\u001b[0;34m\u001b[0m\u001b[0;34m\u001b[0m\u001b[0m\n\u001b[1;32m    939\u001b[0m                 \u001b[0;32mif\u001b[0m \u001b[0mgetattr\u001b[0m\u001b[0;34m(\u001b[0m\u001b[0mself\u001b[0m\u001b[0;34m.\u001b[0m\u001b[0m_backend\u001b[0m\u001b[0;34m,\u001b[0m \u001b[0;34m'supports_timeout'\u001b[0m\u001b[0;34m,\u001b[0m \u001b[0;32mFalse\u001b[0m\u001b[0;34m)\u001b[0m\u001b[0;34m:\u001b[0m\u001b[0;34m\u001b[0m\u001b[0;34m\u001b[0m\u001b[0m\n\u001b[0;32m--> 940\u001b[0;31m                     \u001b[0mself\u001b[0m\u001b[0;34m.\u001b[0m\u001b[0m_output\u001b[0m\u001b[0;34m.\u001b[0m\u001b[0mextend\u001b[0m\u001b[0;34m(\u001b[0m\u001b[0mjob\u001b[0m\u001b[0;34m.\u001b[0m\u001b[0mget\u001b[0m\u001b[0;34m(\u001b[0m\u001b[0mtimeout\u001b[0m\u001b[0;34m=\u001b[0m\u001b[0mself\u001b[0m\u001b[0;34m.\u001b[0m\u001b[0mtimeout\u001b[0m\u001b[0;34m)\u001b[0m\u001b[0;34m)\u001b[0m\u001b[0;34m\u001b[0m\u001b[0;34m\u001b[0m\u001b[0m\n\u001b[0m\u001b[1;32m    941\u001b[0m                 \u001b[0;32melse\u001b[0m\u001b[0;34m:\u001b[0m\u001b[0;34m\u001b[0m\u001b[0;34m\u001b[0m\u001b[0m\n\u001b[1;32m    942\u001b[0m                     \u001b[0mself\u001b[0m\u001b[0;34m.\u001b[0m\u001b[0m_output\u001b[0m\u001b[0;34m.\u001b[0m\u001b[0mextend\u001b[0m\u001b[0;34m(\u001b[0m\u001b[0mjob\u001b[0m\u001b[0;34m.\u001b[0m\u001b[0mget\u001b[0m\u001b[0;34m(\u001b[0m\u001b[0;34m)\u001b[0m\u001b[0;34m)\u001b[0m\u001b[0;34m\u001b[0m\u001b[0;34m\u001b[0m\u001b[0m\n",
            "\u001b[0;32m/usr/local/lib/python3.6/dist-packages/joblib/_parallel_backends.py\u001b[0m in \u001b[0;36mwrap_future_result\u001b[0;34m(future, timeout)\u001b[0m\n\u001b[1;32m    540\u001b[0m         AsyncResults.get from multiprocessing.\"\"\"\n\u001b[1;32m    541\u001b[0m         \u001b[0;32mtry\u001b[0m\u001b[0;34m:\u001b[0m\u001b[0;34m\u001b[0m\u001b[0;34m\u001b[0m\u001b[0m\n\u001b[0;32m--> 542\u001b[0;31m             \u001b[0;32mreturn\u001b[0m \u001b[0mfuture\u001b[0m\u001b[0;34m.\u001b[0m\u001b[0mresult\u001b[0m\u001b[0;34m(\u001b[0m\u001b[0mtimeout\u001b[0m\u001b[0;34m=\u001b[0m\u001b[0mtimeout\u001b[0m\u001b[0;34m)\u001b[0m\u001b[0;34m\u001b[0m\u001b[0;34m\u001b[0m\u001b[0m\n\u001b[0m\u001b[1;32m    543\u001b[0m         \u001b[0;32mexcept\u001b[0m \u001b[0mCfTimeoutError\u001b[0m \u001b[0;32mas\u001b[0m \u001b[0me\u001b[0m\u001b[0;34m:\u001b[0m\u001b[0;34m\u001b[0m\u001b[0;34m\u001b[0m\u001b[0m\n\u001b[1;32m    544\u001b[0m             \u001b[0;32mraise\u001b[0m \u001b[0mTimeoutError\u001b[0m \u001b[0;32mfrom\u001b[0m \u001b[0me\u001b[0m\u001b[0;34m\u001b[0m\u001b[0;34m\u001b[0m\u001b[0m\n",
            "\u001b[0;32m/usr/lib/python3.6/concurrent/futures/_base.py\u001b[0m in \u001b[0;36mresult\u001b[0;34m(self, timeout)\u001b[0m\n\u001b[1;32m    430\u001b[0m                 \u001b[0;32mraise\u001b[0m \u001b[0mCancelledError\u001b[0m\u001b[0;34m(\u001b[0m\u001b[0;34m)\u001b[0m\u001b[0;34m\u001b[0m\u001b[0;34m\u001b[0m\u001b[0m\n\u001b[1;32m    431\u001b[0m             \u001b[0;32melif\u001b[0m \u001b[0mself\u001b[0m\u001b[0;34m.\u001b[0m\u001b[0m_state\u001b[0m \u001b[0;34m==\u001b[0m \u001b[0mFINISHED\u001b[0m\u001b[0;34m:\u001b[0m\u001b[0;34m\u001b[0m\u001b[0;34m\u001b[0m\u001b[0m\n\u001b[0;32m--> 432\u001b[0;31m                 \u001b[0;32mreturn\u001b[0m \u001b[0mself\u001b[0m\u001b[0;34m.\u001b[0m\u001b[0m__get_result\u001b[0m\u001b[0;34m(\u001b[0m\u001b[0;34m)\u001b[0m\u001b[0;34m\u001b[0m\u001b[0;34m\u001b[0m\u001b[0m\n\u001b[0m\u001b[1;32m    433\u001b[0m             \u001b[0;32melse\u001b[0m\u001b[0;34m:\u001b[0m\u001b[0;34m\u001b[0m\u001b[0;34m\u001b[0m\u001b[0m\n\u001b[1;32m    434\u001b[0m                 \u001b[0;32mraise\u001b[0m \u001b[0mTimeoutError\u001b[0m\u001b[0;34m(\u001b[0m\u001b[0;34m)\u001b[0m\u001b[0;34m\u001b[0m\u001b[0;34m\u001b[0m\u001b[0m\n",
            "\u001b[0;32m/usr/lib/python3.6/concurrent/futures/_base.py\u001b[0m in \u001b[0;36m__get_result\u001b[0;34m(self)\u001b[0m\n\u001b[1;32m    382\u001b[0m     \u001b[0;32mdef\u001b[0m \u001b[0m__get_result\u001b[0m\u001b[0;34m(\u001b[0m\u001b[0mself\u001b[0m\u001b[0;34m)\u001b[0m\u001b[0;34m:\u001b[0m\u001b[0;34m\u001b[0m\u001b[0;34m\u001b[0m\u001b[0m\n\u001b[1;32m    383\u001b[0m         \u001b[0;32mif\u001b[0m \u001b[0mself\u001b[0m\u001b[0;34m.\u001b[0m\u001b[0m_exception\u001b[0m\u001b[0;34m:\u001b[0m\u001b[0;34m\u001b[0m\u001b[0;34m\u001b[0m\u001b[0m\n\u001b[0;32m--> 384\u001b[0;31m             \u001b[0;32mraise\u001b[0m \u001b[0mself\u001b[0m\u001b[0;34m.\u001b[0m\u001b[0m_exception\u001b[0m\u001b[0;34m\u001b[0m\u001b[0;34m\u001b[0m\u001b[0m\n\u001b[0m\u001b[1;32m    385\u001b[0m         \u001b[0;32melse\u001b[0m\u001b[0;34m:\u001b[0m\u001b[0;34m\u001b[0m\u001b[0;34m\u001b[0m\u001b[0m\n\u001b[1;32m    386\u001b[0m             \u001b[0;32mreturn\u001b[0m \u001b[0mself\u001b[0m\u001b[0;34m.\u001b[0m\u001b[0m_result\u001b[0m\u001b[0;34m\u001b[0m\u001b[0;34m\u001b[0m\u001b[0m\n",
            "\u001b[0;31mTerminatedWorkerError\u001b[0m: A worker process managed by the executor was unexpectedly terminated. This could be caused by a segmentation fault while calling the function or by an excessive memory usage causing the Operating System to kill the worker.\n\nThe exit codes of the workers are {SIGKILL(-9)}"
          ]
        }
      ]
    }
  ]
}